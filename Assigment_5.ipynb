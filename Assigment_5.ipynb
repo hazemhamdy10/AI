{
 "cells": [
  {
   "cell_type": "markdown",
   "metadata": {
    "id": "EuNI8s4u51_Y"
   },
   "source": [
    "**Numpy**"
   ]
  },
  {
   "cell_type": "markdown",
   "metadata": {
    "id": "12UzNJY9W2Qq"
   },
   "source": [
    "1. What is the result of the following expression? (★☆☆)\n",
    "0 * np.nan\n",
    "np.nan == np.nan\n",
    "np.inf > np.nan\n",
    "np.nan - np.nan\n",
    "np.nan in set([np.nan])\n",
    "0.3 == 3 * 0.1"
   ]
  },
  {
   "cell_type": "markdown",
   "metadata": {
    "id": "RYcIyNouW_ns"
   },
   "source": [
    "2.Create a 5x5 matrix with values 1,2,3,4 just below the diagonal"
   ]
  },
  {
   "cell_type": "markdown",
   "metadata": {
    "id": "rQTaccuoXJ9T"
   },
   "source": [
    "3.Create a 8x8 matrix and fill it with a checkerboard pattern"
   ]
  },
  {
   "cell_type": "markdown",
   "metadata": {
    "id": "PplR24iUXODy"
   },
   "source": [
    "4.Consider a (6,7,8) shape array, what is the index (x,y,z) of the 100th element?"
   ]
  },
  {
   "cell_type": "markdown",
   "metadata": {
    "id": "Z1s4al-wXTNb"
   },
   "source": [
    "5.Normalize a 5x5 random matrix"
   ]
  },
  {
   "cell_type": "markdown",
   "metadata": {
    "id": "dLem8XYAXYUz"
   },
   "source": [
    "6.Create a custom dtype that describes a color as four unsigned bytes (RGBA)"
   ]
  },
  {
   "cell_type": "code",
   "execution_count": 3,
   "metadata": {
    "id": "bDM_eV9G5x34"
   },
   "outputs": [
    {
     "name": "stdout",
     "output_type": "stream",
     "text": [
      "nan\n",
      "False\n",
      "False\n",
      "nan\n",
      "True\n",
      "False\n",
      "0.30000000000000004\n"
     ]
    }
   ],
   "source": [
    "import numpy as np \n",
    "print(0*np.nan)\n",
    "print(np.nan==np.nan)\n",
    "print(np.inf>np.nan)\n",
    "print(np.nan-np.nan)\n",
    "print(np.nan in set([np.nan]))\n",
    "print(0.3==0.1*3)\n",
    "print(0.1*3)"
   ]
  },
  {
   "cell_type": "code",
   "execution_count": 6,
   "metadata": {},
   "outputs": [
    {
     "name": "stdout",
     "output_type": "stream",
     "text": [
      "[[0 0 0 0 0]\n",
      " [1 0 0 0 0]\n",
      " [0 2 0 0 0]\n",
      " [0 0 3 0 0]\n",
      " [0 0 0 4 0]]\n"
     ]
    }
   ],
   "source": [
    "import numpy as np \n",
    "array_range=1+np.arange(4)\n",
    "modified_matrix=np.diag(array_range,k=-1)\n",
    "print(modified_matrix)"
   ]
  },
  {
   "cell_type": "code",
   "execution_count": 22,
   "metadata": {},
   "outputs": [
    {
     "name": "stdout",
     "output_type": "stream",
     "text": [
      "[[0 1 0 1 0 1 0 1]\n",
      " [1 0 1 0 1 0 1 0]\n",
      " [0 1 0 1 0 1 0 1]\n",
      " [1 0 1 0 1 0 1 0]\n",
      " [0 1 0 1 0 1 0 1]\n",
      " [1 0 1 0 1 0 1 0]\n",
      " [0 1 0 1 0 1 0 1]\n",
      " [1 0 1 0 1 0 1 0]]\n"
     ]
    }
   ],
   "source": [
    "Z = np.zeros((8,8),dtype=int)\n",
    "Z[1::2,::2] = 1\n",
    "Z[::2,1::2] = 1\n",
    "print(Z)"
   ]
  },
  {
   "cell_type": "code",
   "execution_count": 23,
   "metadata": {},
   "outputs": [
    {
     "name": "stdout",
     "output_type": "stream",
     "text": [
      "(1, 5, 3)\n"
     ]
    }
   ],
   "source": [
    "print(np.unravel_index(99,(6,7,8)))"
   ]
  },
  {
   "cell_type": "code",
   "execution_count": 24,
   "metadata": {},
   "outputs": [
    {
     "name": "stdout",
     "output_type": "stream",
     "text": [
      "[[0.6767726  0.22193929 0.83460605 0.06599533 0.63356922]\n",
      " [0.5243856  0.66735571 0.88103941 0.63625786 0.35374614]\n",
      " [0.13909666 0.69312332 0.77594713 0.88038531 0.20950882]\n",
      " [0.50889461 0.03578991 0.45286123 0.85237329 0.92452728]\n",
      " [0.01635098 0.19720118 0.01634427 0.62178173 0.03208069]]\n"
     ]
    }
   ],
   "source": [
    "print(np.random.rand(5,5))"
   ]
  },
  {
   "cell_type": "code",
   "execution_count": null,
   "metadata": {},
   "outputs": [],
   "source": []
  },
  {
   "cell_type": "markdown",
   "metadata": {
    "id": "yslQ-2cI5ueZ"
   },
   "source": [
    "**Pandas**"
   ]
  },
  {
   "cell_type": "markdown",
   "metadata": {
    "id": "dcACUykd4-4h"
   },
   "source": [
    "1-Create a DataFrame: Create a DataFrame named df with columns 'Name', 'Age', and 'City' containing three rows of data.\n",
    "\n",
    "2-Accessing Data: Print the first 5 rows of the DataFrame df.\n",
    "\n",
    "3-Adding a Column: Add a new column 'Grade' to the DataFrame df with values ['A', 'B', 'C'].\n",
    "\n",
    "4-Filtering Data: Create a new DataFrame young_df containing rows where 'Age' is less than 30.\n",
    "\n",
    "5-Sorting Data: Sort the DataFrame df by 'Age' in ascending order.\n",
    "\n",
    "6-Grouping and Aggregating: Group the DataFrame df by 'City' and calculate the average age in each city.\n",
    "\n",
    "7-Merging DataFrames: Create two DataFrames df1 and df2 with columns 'ID' and 'Salary'. Merge them on 'ID' column.\n",
    "\n",
    "8-Handling Missing Data: Create a DataFrame missing_df with missing values in some rows. Fill the missing values with the mean of the respective column.\n",
    "\n",
    "9-Applying Functions: Create a new column 'Seniority' in the DataFrame df based on the 'Age' column. If 'Age' is greater than 40, label as 'Senior', else 'Junior'.\n",
    "\n",
    "10-Plotting Data: Plot a bar chart showing the count of people in each 'Grade' category in the DataFrame df."
   ]
  },
  {
   "cell_type": "markdown",
   "metadata": {
    "id": "_JuvtexhXdKC"
   },
   "source": []
  },
  {
   "cell_type": "code",
   "execution_count": 2,
   "metadata": {},
   "outputs": [
    {
     "name": "stdout",
     "output_type": "stream",
     "text": [
      "    Name  Age    City\n",
      "0  hazem   21    Alex\n",
      "1  hamdy   25   Cairo\n",
      "2  hafez   26  Berlin\n"
     ]
    }
   ],
   "source": [
    "import pandas as pd \n",
    "data={'Name':['hazem','hamdy','hafez'],'Age':[21,25,26],'City':['Alex','Cairo','Berlin']}\n",
    "df=pd.DataFrame(data)\n",
    "print(df)"
   ]
  },
  {
   "cell_type": "code",
   "execution_count": 8,
   "metadata": {},
   "outputs": [
    {
     "name": "stdout",
     "output_type": "stream",
     "text": [
      "          0         1         2         3\n",
      "0  0.875384  0.652018  0.962697  0.250285\n",
      "1  0.381779  0.035916  0.514850  0.121505\n",
      "2  0.293565  0.729854  0.269483  0.981357\n",
      "3  0.974455  0.559156  0.310095  0.359921\n",
      "4  0.966298  0.296104  0.752317  0.146766\n"
     ]
    }
   ],
   "source": [
    "import pandas as pd \n",
    "import numpy as np \n",
    "x=np.random.rand(10,4)\n",
    "df=pd.DataFrame(x)\n",
    "print(df.head(5)) "
   ]
  },
  {
   "cell_type": "code",
   "execution_count": 9,
   "metadata": {},
   "outputs": [
    {
     "data": {
      "text/html": [
       "<div>\n",
       "<style scoped>\n",
       "    .dataframe tbody tr th:only-of-type {\n",
       "        vertical-align: middle;\n",
       "    }\n",
       "\n",
       "    .dataframe tbody tr th {\n",
       "        vertical-align: top;\n",
       "    }\n",
       "\n",
       "    .dataframe thead th {\n",
       "        text-align: right;\n",
       "    }\n",
       "</style>\n",
       "<table border=\"1\" class=\"dataframe\">\n",
       "  <thead>\n",
       "    <tr style=\"text-align: right;\">\n",
       "      <th></th>\n",
       "      <th>subject</th>\n",
       "      <th>Teacher</th>\n",
       "      <th>Grade</th>\n",
       "    </tr>\n",
       "  </thead>\n",
       "  <tbody>\n",
       "    <tr>\n",
       "      <th>0</th>\n",
       "      <td>Math</td>\n",
       "      <td>Hazem</td>\n",
       "      <td>A</td>\n",
       "    </tr>\n",
       "    <tr>\n",
       "      <th>1</th>\n",
       "      <td>English</td>\n",
       "      <td>Hamdy</td>\n",
       "      <td>B</td>\n",
       "    </tr>\n",
       "    <tr>\n",
       "      <th>2</th>\n",
       "      <td>hafez</td>\n",
       "      <td>Hafez</td>\n",
       "      <td>C</td>\n",
       "    </tr>\n",
       "  </tbody>\n",
       "</table>\n",
       "</div>"
      ],
      "text/plain": [
       "   subject Teacher Grade\n",
       "0     Math   Hazem     A\n",
       "1  English   Hamdy     B\n",
       "2    hafez   Hafez     C"
      ]
     },
     "execution_count": 9,
     "metadata": {},
     "output_type": "execute_result"
    }
   ],
   "source": [
    "import pandas as pd\n",
    "data={'subject':['Math','English','hafez'],'Teacher':['Hazem','Hamdy','Hafez']}\n",
    "df=pd.DataFrame(data)\n",
    "df['Grade']=['A','B','C']\n",
    "print(df)"
   ]
  },
  {
   "cell_type": "code",
   "execution_count": 50,
   "metadata": {},
   "outputs": [
    {
     "name": "stdout",
     "output_type": "stream",
     "text": [
      "    Name  Age    City\n",
      "0  hazem   21    Alex\n",
      "1  hamdy   50   Cairo\n",
      "2  hafez   30  Berlin\n",
      "##################################################\n",
      "    Name  Age  City\n",
      "0  hazem   21  Alex\n",
      "##################################################\n",
      "    Name  Age    City\n",
      "0  hazem   21    Alex\n",
      "2  hafez   30  Berlin\n",
      "1  hamdy   50   Cairo\n",
      "##################################################\n",
      "City\n",
      "Alex      21.0\n",
      "Berlin    30.0\n",
      "Cairo     50.0\n",
      "Name: Age, dtype: float64\n",
      "##################################################\n",
      "   ID  Salary_x  Salary_y\n",
      "0   1     50000     45000\n",
      "1   2     60000     55000\n",
      "2   3     70000     65000\n",
      "##################################################\n",
      "          A         B     C\n",
      "0  1.000000  5.000000  11.0\n",
      "1  2.000000  6.666667  10.0\n",
      "2  2.333333  7.000000  11.0\n",
      "3  4.000000  8.000000  12.0\n",
      "##################################################\n"
     ]
    },
    {
     "data": {
      "text/html": [
       "<div>\n",
       "<style scoped>\n",
       "    .dataframe tbody tr th:only-of-type {\n",
       "        vertical-align: middle;\n",
       "    }\n",
       "\n",
       "    .dataframe tbody tr th {\n",
       "        vertical-align: top;\n",
       "    }\n",
       "\n",
       "    .dataframe thead th {\n",
       "        text-align: right;\n",
       "    }\n",
       "</style>\n",
       "<table border=\"1\" class=\"dataframe\">\n",
       "  <thead>\n",
       "    <tr style=\"text-align: right;\">\n",
       "      <th></th>\n",
       "      <th>Name</th>\n",
       "      <th>Age</th>\n",
       "      <th>seniority</th>\n",
       "    </tr>\n",
       "  </thead>\n",
       "  <tbody>\n",
       "    <tr>\n",
       "      <th>0</th>\n",
       "      <td>Alice</td>\n",
       "      <td>35</td>\n",
       "      <td>junior</td>\n",
       "    </tr>\n",
       "    <tr>\n",
       "      <th>1</th>\n",
       "      <td>Bob</td>\n",
       "      <td>45</td>\n",
       "      <td>Senior</td>\n",
       "    </tr>\n",
       "    <tr>\n",
       "      <th>2</th>\n",
       "      <td>Charlie</td>\n",
       "      <td>30</td>\n",
       "      <td>junior</td>\n",
       "    </tr>\n",
       "    <tr>\n",
       "      <th>3</th>\n",
       "      <td>David</td>\n",
       "      <td>50</td>\n",
       "      <td>Senior</td>\n",
       "    </tr>\n",
       "  </tbody>\n",
       "</table>\n",
       "</div>"
      ],
      "text/plain": [
       "      Name  Age seniority\n",
       "0    Alice   35    junior\n",
       "1      Bob   45    Senior\n",
       "2  Charlie   30    junior\n",
       "3    David   50    Senior"
      ]
     },
     "execution_count": 50,
     "metadata": {},
     "output_type": "execute_result"
    }
   ],
   "source": [
    "import pandas as pd \n",
    "data={'Name':['hazem','hamdy','hafez'],'Age':[21,50,30],'City':['Alex','Cairo','Berlin']}\n",
    "df=pd.DataFrame(data)\n",
    "print(df)\n",
    "print('#'*50)\n",
    "new_df=df.loc[df['Age']<30] #age less than 30 \n",
    "print(new_df) \n",
    "print('#'*50)\n",
    "new_df2=df.sort_values('Age',ascending=True) # ascending order \n",
    "print(new_df2)\n",
    "print('#'*50)\n",
    "new_df3=df.groupby('City')['Age'].agg('mean') # avg for ages in city\n",
    "print(new_df3)\n",
    "print('#'*50)\n",
    "data1 = {'ID': [1, 2, 3, 4],'Salary': [50000, 60000, 70000, 80000]}\n",
    "df1 = pd.DataFrame(data1)\n",
    "data2 = {'ID': [1, 2, 3, 5],'Salary': [45000, 55000, 65000, 75000]}\n",
    "df2 = pd.DataFrame(data2)\n",
    "new_df4=pd.merge(df1,df2,on='ID')\n",
    "print(new_df4)\n",
    "print('#'*50)\n",
    "data = {'A': [1, 2, np.nan, 4],\n",
    "        'B': [5, np.nan, 7, 8],\n",
    "        'C': [np.nan, 10, 11, 12]}\n",
    "new_df5 = pd.DataFrame(data)\n",
    "new_df5.fillna(new_df5.mean(), inplace=True)\n",
    "print(new_df5)\n",
    "print('#'*50)\n",
    "data = {'Name': ['Hazem', 'Hamdy', 'Hafez', 'Ahmed'],'Age': [35, 45, 30, 50]}\n",
    "new_df6 = pd.DataFrame(data)\n",
    "new_df6['seniority']='Senior'\n",
    "new_df6.loc[new_df6['Age'] < 40, 'seniority'] = 'junior'\n",
    "print(new_df6)\n",
    "\n",
    "\n"
   ]
  },
  {
   "cell_type": "code",
   "execution_count": null,
   "metadata": {},
   "outputs": [],
   "source": []
  },
  {
   "cell_type": "code",
   "execution_count": null,
   "metadata": {},
   "outputs": [],
   "source": []
  }
 ],
 "metadata": {
  "colab": {
   "provenance": []
  },
  "kernelspec": {
   "display_name": "Python 3 (ipykernel)",
   "language": "python",
   "name": "python3"
  },
  "language_info": {
   "codemirror_mode": {
    "name": "ipython",
    "version": 3
   },
   "file_extension": ".py",
   "mimetype": "text/x-python",
   "name": "python",
   "nbconvert_exporter": "python",
   "pygments_lexer": "ipython3",
   "version": "3.11.5"
  }
 },
 "nbformat": 4,
 "nbformat_minor": 1
}
