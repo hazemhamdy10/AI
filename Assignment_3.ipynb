{
 "cells": [
  {
   "cell_type": "markdown",
   "metadata": {
    "id": "O8Z3d6fSoTn-"
   },
   "source": []
  },
  {
   "cell_type": "markdown",
   "metadata": {
    "id": "Lo-Xc4qAopsg"
   },
   "source": [
    "# Problem 1: Set Operations\n",
    "\n",
    "# Define two sets, A and B, with at least 5 elements each.\n",
    "# Write a function to find the union of sets A and B.\n",
    "# Write a function to find the intersection of sets A and B.\n",
    "#Write a function to find the difference between sets A and B (elements in A but not in B).\n",
    "# Write a function to check if set A is a subset of set B.\n",
    "# Write a function to find the symmetric difference between sets A and B.\n",
    "# Write a function to remove duplicates from a list and convert it into a set.\n",
    "# Write a function to determine if two sets have any elements in common.\n",
    "# Write a function to check if a set is empty.\n",
    "# Write a function to remove a specific element from a set.\n",
    "# Write a function to check if two sets are disjoint (have no elements in common).\n",
    "# Write a function to find the Cartesian product of two sets.\n",
    "# Write a function to generate the power set of a set.\n",
    "# Write a function to find the maximum and minimum elements of a set.\n",
    "# Write a function to calculate the Jaccard similarity coefficient between two sets."
   ]
  },
  {
   "cell_type": "code",
   "execution_count": 6,
   "metadata": {
    "id": "aXp4DLHZptun"
   },
   "outputs": [],
   "source": [
    "#DEFINE_TWO_SETS\n",
    "A={1,2,3,4,5,6}\n",
    "B={4,5,6,7,8,9}\n",
    "\n"
   ]
  },
  {
   "cell_type": "code",
   "execution_count": 5,
   "metadata": {},
   "outputs": [
    {
     "data": {
      "text/plain": [
       "{1, 2, 3, 4, 5, 6, 7, 8, 9}"
      ]
     },
     "execution_count": 5,
     "metadata": {},
     "output_type": "execute_result"
    }
   ],
   "source": [
    "#function_to_find_union_of_two_sets\n",
    "def union_of_two_Sets(set1,set2):   \n",
    "    return set1|set2\n",
    "#DEFINE_TWO_SETS\n",
    "A={1,2,3,4,5,6}\n",
    "B={4,5,6,7,8,9}\n",
    "union_of_two_Sets(A,B)"
   ]
  },
  {
   "cell_type": "code",
   "execution_count": 4,
   "metadata": {},
   "outputs": [
    {
     "data": {
      "text/plain": [
       "{4, 5, 6}"
      ]
     },
     "execution_count": 4,
     "metadata": {},
     "output_type": "execute_result"
    }
   ],
   "source": [
    "#function_to_find_the_intesection_of_two_sets\n",
    "def int_of_two_Sets(set1,set2):   \n",
    "    return set1&set2\n",
    "#DEFINE_TWO_SETS\n",
    "A={1,2,3,4,5,6}\n",
    "B={4,5,6,7,8,9}\n",
    "int_of_two_Sets(A,B)"
   ]
  },
  {
   "cell_type": "code",
   "execution_count": 23,
   "metadata": {},
   "outputs": [
    {
     "data": {
      "text/plain": [
       "{1, 2, 3}"
      ]
     },
     "execution_count": 23,
     "metadata": {},
     "output_type": "execute_result"
    }
   ],
   "source": [
    "#Write a function to find the difference between sets A and B (elements in A but not in B)\n",
    "def diff_of_two_Sets(set1,set2):   \n",
    "    return set1-set2\n",
    "#DEFINE_TWO_SETS\n",
    "A={1,2,3,4,5,6}\n",
    "B={4,5,6,7,8,9}\n",
    "diff_of_two_Sets(A,B)"
   ]
  },
  {
   "cell_type": "code",
   "execution_count": 21,
   "metadata": {},
   "outputs": [
    {
     "name": "stdout",
     "output_type": "stream",
     "text": [
      "A is subset from B \n"
     ]
    }
   ],
   "source": [
    "#function_to_check_if_A_is_subset_from_B\n",
    "def sub(set1,set2):\n",
    "    x=set1.issubset(set2)\n",
    "    return x \n",
    "#DEFINE_TWO_SETS\n",
    "A={4,5,6}\n",
    "B={4,5,6,7,8,9}\n",
    "# sub(A,B)\n",
    "if sub(A,B)==True : \n",
    "    print(\"A is subset from B \")\n",
    "else : \n",
    "    print(\"A is not subset from B \")"
   ]
  },
  {
   "cell_type": "code",
   "execution_count": 22,
   "metadata": {},
   "outputs": [
    {
     "data": {
      "text/plain": [
       "{1, 2, 3, 7, 8, 9}"
      ]
     },
     "execution_count": 22,
     "metadata": {},
     "output_type": "execute_result"
    }
   ],
   "source": [
    "# Write a function to find the symmetric difference between sets A and B\n",
    "def symm(set1,set2):\n",
    "    return A^B\n",
    "#DEFINE_TWO_SETS\n",
    "A={1,2,3,4,5,6}\n",
    "B={4,5,6,7,8,9}\n",
    "symm(A,B)"
   ]
  },
  {
   "cell_type": "code",
   "execution_count": 26,
   "metadata": {},
   "outputs": [
    {
     "data": {
      "text/plain": [
       "{1, 2, 3, 4, 5, 6, 7}"
      ]
     },
     "execution_count": 26,
     "metadata": {},
     "output_type": "execute_result"
    }
   ],
   "source": [
    "# Write a function to remove duplicates from a list and convert it into a set.\n",
    "def remove(x):    #where x is the user_list\n",
    "    l=[]\n",
    "    for i in x : \n",
    "        if i not in l : \n",
    "            l.append(i)\n",
    "        else : \n",
    "            continue \n",
    "    return set(l)\n",
    "#DEFINE_TWO_SETS\n",
    "user_list=[1,2,3,4,3,4,5,6,6,7,2,1,4]\n",
    "remove(user_list)    "
   ]
  },
  {
   "cell_type": "code",
   "execution_count": 29,
   "metadata": {},
   "outputs": [
    {
     "data": {
      "text/plain": [
       "'There is no elements in common '"
      ]
     },
     "execution_count": 29,
     "metadata": {},
     "output_type": "execute_result"
    }
   ],
   "source": [
    "# Write a function to determine if two sets have any elements in common\n",
    "def check(set1,set2):\n",
    "    if set1.intersection(set2)==set():\n",
    "        return \"There is no elements in common \"\n",
    "    else : \n",
    "        return set1.intersection(set2)\n",
    "#DEFINE_TWO_SETS\n",
    "A={1,2,3}\n",
    "B={4,5,6,7,8,9}\n",
    "check(A,B)"
   ]
  },
  {
   "cell_type": "code",
   "execution_count": 48,
   "metadata": {},
   "outputs": [
    {
     "data": {
      "text/plain": [
       "'set is not empty '"
      ]
     },
     "execution_count": 48,
     "metadata": {},
     "output_type": "execute_result"
    }
   ],
   "source": [
    "# Write a function to check if a set is empty.\n",
    "def checkkk(set1):\n",
    "    if len(set1)==0:\n",
    "        return \"empty\"\n",
    "    else :\n",
    "        return \"not empty\"\n",
    "user_input={ }\n",
    "checkkk(user_input)"
   ]
  },
  {
   "cell_type": "code",
   "execution_count": 52,
   "metadata": {},
   "outputs": [
    {
     "name": "stdout",
     "output_type": "stream",
     "text": [
      "please enter element want to remove 3\n"
     ]
    },
    {
     "data": {
      "text/plain": [
       "{1, 2, 4, 5}"
      ]
     },
     "execution_count": 52,
     "metadata": {},
     "output_type": "execute_result"
    }
   ],
   "source": [
    "# Write a function to remove a specific element from a set.\n",
    "def remove_ele(set1,ele):\n",
    "    set1.remove(ele)\n",
    "    return set1\n",
    "user_set={1,2,3,4,5}\n",
    "user_input=int(input(\"please enter element want to remove \"))\n",
    "remove_ele(user_set,user_input)"
   ]
  },
  {
   "cell_type": "code",
   "execution_count": 55,
   "metadata": {},
   "outputs": [
    {
     "data": {
      "text/plain": [
       "'no elements in common '"
      ]
     },
     "execution_count": 55,
     "metadata": {},
     "output_type": "execute_result"
    }
   ],
   "source": [
    "# Write a function to check if two sets are disjoint (have no elements in common).\n",
    "def no_int(set1,set2):\n",
    "    if set1.intersection(set2)==set():\n",
    "            return \"no elements in common \"\n",
    "    else : \n",
    "        x=set1.intersection(set2)\n",
    "        return x\n",
    "set1={1,2,3}\n",
    "set2={4,5,6,7,8,9}\n",
    "no_int(set1,set2)"
   ]
  },
  {
   "cell_type": "code",
   "execution_count": 10,
   "metadata": {},
   "outputs": [
    {
     "data": {
      "text/plain": [
       "{(1, 4), (1, 5), (2, 4), (2, 5)}"
      ]
     },
     "execution_count": 10,
     "metadata": {},
     "output_type": "execute_result"
    }
   ],
   "source": [
    "# Write a function to find the Cartesian product of two sets.\n",
    "def car_product(set1,set2):\n",
    "    l=set()\n",
    "    for i in set1 : \n",
    "        for j in set2:\n",
    "             l.add((i,j))\n",
    "\n",
    "            \n",
    "    return l \n",
    "set1={1,2}\n",
    "set2={4,5}\n",
    "car_product(set1,set2)\n",
    "            \n",
    "            "
   ]
  },
  {
   "cell_type": "code",
   "execution_count": null,
   "metadata": {},
   "outputs": [],
   "source": [
    "# Write a function to generate the power set of a set.\n",
    "def "
   ]
  },
  {
   "cell_type": "code",
   "execution_count": 18,
   "metadata": {},
   "outputs": [
    {
     "name": "stdout",
     "output_type": "stream",
     "text": [
      "6\n",
      "1\n"
     ]
    }
   ],
   "source": [
    "def maximum(set1):\n",
    "    return max(set1)\n",
    "def minimum(set1):\n",
    "    return min(set1)\n",
    "set1={1,2,3,4,5,6}\n",
    "print(maximum(set1))\n",
    "print(minimum(set1))"
   ]
  },
  {
   "cell_type": "markdown",
   "metadata": {
    "id": "Uk6j9I2Qo9SX"
   },
   "source": [
    "# Problem 2: Dictionary Manipulation\n",
    "\n",
    "# Create a dictionary representing the population of fifteen countries.\n",
    "# Write a function to find the country with the smallest population.\n",
    "# Write a function to calculate the total population.\n",
    "# Write a function to find the top 5 most populous countries.\n",
    "# Write a function to add a new country and its population to the dictionary.\n",
    "# Write a function to remove a country from the dictionary.\n",
    "# Write a function to update the population of a specific country.\n",
    "# Write a function to check if a country exists in the dictionary.\n",
    "# Write a function to get the population of a specific country.\n",
    "# Write a function to clear all entries from the dictionary.\n",
    "# Write a function to merge two dictionaries.\n",
    "# Write a function to sort a dictionary by its values.\n",
    "# Write a function to check if a dictionary is empty.\n",
    "# Write a function to find the country with the highest population density.\n",
    "# Write a function to create a dictionary from two lists, one containing keys and the other containing values."
   ]
  },
  {
   "cell_type": "code",
   "execution_count": 20,
   "metadata": {},
   "outputs": [
    {
     "data": {
      "text/plain": [
       "'Vietnam'"
      ]
     },
     "execution_count": 20,
     "metadata": {},
     "output_type": "execute_result"
    }
   ],
   "source": [
    "# Create a dictionary representing the population of fifteen countries\n",
    "population = {\n",
    "    \"China\": 1444216107,\n",
    "    \"India\": 1393409038,\n",
    "    \"United States\": 331002651,\n",
    "    \"Indonesia\": 273523615,\n",
    "    \"Pakistan\": 220892340,\n",
    "    \"Brazil\": 212559417,\n",
    "    \"Nigeria\": 206139589,\n",
    "    \"Bangladesh\": 164689383,\n",
    "    \"Russia\": 145934462,\n",
    "    \"Mexico\": 128932753,\n",
    "    \"Japan\": 126476461,\n",
    "    \"Ethiopia\": 114963588,\n",
    "    \"Philippines\": 109581078,\n",
    "    \"Egypt\": 102334404,\n",
    "    \"Vietnam\": 97338579\n",
    "}\n",
    "# Write a function to find the country with the smallest population\n",
    "def find_smallest(dic):\n",
    "    x=min(dic.values())\n",
    "    for i in dic :\n",
    "         if dic[i]==x :\n",
    "            return i \n",
    "#         print (i) \n",
    "#         print(type(i))\n",
    "       \n",
    "\n",
    "find_smallest(population)\n"
   ]
  },
  {
   "cell_type": "code",
   "execution_count": 26,
   "metadata": {},
   "outputs": [
    {
     "name": "stdout",
     "output_type": "stream",
     "text": [
      "the total population is: 5071993465\n"
     ]
    }
   ],
   "source": [
    "# Create a dictionary representing the population of fifteen countries\n",
    "population = {\n",
    "    \"China\": 1444216107,\n",
    "    \"India\": 1393409038,\n",
    "    \"United States\": 331002651,\n",
    "    \"Indonesia\": 273523615,\n",
    "    \"Pakistan\": 220892340,\n",
    "    \"Brazil\": 212559417,\n",
    "    \"Nigeria\": 206139589,\n",
    "    \"Bangladesh\": 164689383,\n",
    "    \"Russia\": 145934462,\n",
    "    \"Mexico\": 128932753,\n",
    "    \"Japan\": 126476461,\n",
    "    \"Ethiopia\": 114963588,\n",
    "    \"Philippines\": 109581078,\n",
    "    \"Egypt\": 102334404,\n",
    "    \"Vietnam\": 97338579\n",
    "}\n",
    "# Write a function to calculate the total population.\n",
    "def total_pop(dic):\n",
    "    counter=0\n",
    "    for i in dic : \n",
    "        counter+=dic[i]\n",
    "    print(\"the total population is:\",counter) \n",
    "total_pop(population)\n",
    "        \n"
   ]
  },
  {
   "cell_type": "code",
   "execution_count": 12,
   "metadata": {},
   "outputs": [
    {
     "name": "stdout",
     "output_type": "stream",
     "text": [
      "China\n",
      "India\n",
      "United States\n",
      "Indonesia\n",
      "Pakistan\n"
     ]
    }
   ],
   "source": [
    "# Create a dictionary representing the population of fifteen countries\n",
    "population = {\n",
    "    \"China\": 1444216107,\n",
    "    \"India\": 1393409038,\n",
    "    \"United States\": 331002651,\n",
    "    \"Indonesia\": 273523615,\n",
    "    \"Pakistan\": 220892340,\n",
    "    \"Brazil\": 212559417,\n",
    "    \"Nigeria\": 206139589,\n",
    "    \"Bangladesh\": 164689383,\n",
    "    \"Russia\": 145934462,\n",
    "    \"Mexico\": 128932753,\n",
    "    \"Japan\": 126476461,\n",
    "    \"Ethiopia\": 114963588,\n",
    "    \"Philippines\": 109581078,\n",
    "    \"Egypt\": 102334404,\n",
    "    \"Vietnam\": 97338579\n",
    "}\n",
    "def top_five(dic):\n",
    "    values=list(dic.values())\n",
    "    values.sort(reverse=True)\n",
    "    for i in range(5):\n",
    "#             print(i)\n",
    "        for j in dic:\n",
    "#             print(j)\n",
    "            if dic[j]==values[i]:\n",
    "                print (j) \n",
    "            \n",
    "        \n",
    "#     print(values)\n",
    "top_five(population)"
   ]
  },
  {
   "cell_type": "code",
   "execution_count": 14,
   "metadata": {},
   "outputs": [
    {
     "name": "stdout",
     "output_type": "stream",
     "text": [
      "enter the key morocoo\n",
      "enter the value 37000000\n"
     ]
    },
    {
     "data": {
      "text/plain": [
       "{'China': 1444216107,\n",
       " 'India': 1393409038,\n",
       " 'United States': 331002651,\n",
       " 'Indonesia': 273523615,\n",
       " 'Pakistan': 220892340,\n",
       " 'Brazil': 212559417,\n",
       " 'Nigeria': 206139589,\n",
       " 'Bangladesh': 164689383,\n",
       " 'Russia': 145934462,\n",
       " 'Mexico': 128932753,\n",
       " 'Japan': 126476461,\n",
       " 'Ethiopia': 114963588,\n",
       " 'Philippines': 109581078,\n",
       " 'Egypt': 102334404,\n",
       " 'Vietnam': 97338579,\n",
       " 'morocoo': 37000000}"
      ]
     },
     "execution_count": 14,
     "metadata": {},
     "output_type": "execute_result"
    }
   ],
   "source": [
    "# Write a function to add a new country and its population to the dictionary.\n",
    "population = {\n",
    "    \"China\": 1444216107,\n",
    "    \"India\": 1393409038,\n",
    "    \"United States\": 331002651,\n",
    "    \"Indonesia\": 273523615,\n",
    "    \"Pakistan\": 220892340,\n",
    "    \"Brazil\": 212559417,\n",
    "    \"Nigeria\": 206139589,\n",
    "    \"Bangladesh\": 164689383,\n",
    "    \"Russia\": 145934462,\n",
    "    \"Mexico\": 128932753,\n",
    "    \"Japan\": 126476461,\n",
    "    \"Ethiopia\": 114963588,\n",
    "    \"Philippines\": 109581078,\n",
    "    \"Egypt\": 102334404,\n",
    "    \"Vietnam\": 97338579\n",
    "}\n",
    "def add(dic):\n",
    "    user_key=input(\"enter the key \")\n",
    "    user_value=int(input(\"enter the value \"))\n",
    "    dic[user_key]=user_value\n",
    "    return dic \n",
    "add(population)"
   ]
  },
  {
   "cell_type": "code",
   "execution_count": 17,
   "metadata": {},
   "outputs": [
    {
     "name": "stdout",
     "output_type": "stream",
     "text": [
      "{'China': 1444216107, 'India': 1393409038, 'United States': 331002651, 'Indonesia': 273523615, 'Pakistan': 220892340, 'Brazil': 212559417, 'Nigeria': 206139589, 'Bangladesh': 164689383, 'Russia': 145934462, 'Mexico': 128932753, 'Japan': 126476461, 'Ethiopia': 114963588, 'Philippines': 109581078, 'Vietnam': 97338579}\n"
     ]
    }
   ],
   "source": [
    "# Write a function to remove a country from the dictionary.\n",
    "population = {\n",
    "    \"China\": 1444216107,\n",
    "    \"India\": 1393409038,\n",
    "    \"United States\": 331002651,\n",
    "    \"Indonesia\": 273523615,\n",
    "    \"Pakistan\": 220892340,\n",
    "    \"Brazil\": 212559417,\n",
    "    \"Nigeria\": 206139589,\n",
    "    \"Bangladesh\": 164689383,\n",
    "    \"Russia\": 145934462,\n",
    "    \"Mexico\": 128932753,\n",
    "    \"Japan\": 126476461,\n",
    "    \"Ethiopia\": 114963588,\n",
    "    \"Philippines\": 109581078,\n",
    "    \"Egypt\": 102334404,\n",
    "    \"Vietnam\": 97338579\n",
    "}\n",
    "del population[\"Egypt\"]\n",
    "print(population)\n"
   ]
  },
  {
   "cell_type": "code",
   "execution_count": 19,
   "metadata": {},
   "outputs": [
    {
     "name": "stdout",
     "output_type": "stream",
     "text": [
      "{'China': 1444216107, 'India': 1393409038, 'United States': 331002651, 'Indonesia': 273523615, 'Pakistan': 220892340, 'Brazil': 212559417, 'Nigeria': 206139589, 'Bangladesh': 164689383, 'Russia': 145934462, 'Mexico': 128932753, 'Japan': 126476461, 'Ethiopia': 114963588, 'Philippines': 109581078, 'Egypt': 110000000, 'Vietnam': 97338579}\n"
     ]
    }
   ],
   "source": [
    "# Write a function to update the population of a specific country.\n",
    "population = {\n",
    "    \"China\": 1444216107,\n",
    "    \"India\": 1393409038,\n",
    "    \"United States\": 331002651,\n",
    "    \"Indonesia\": 273523615,\n",
    "    \"Pakistan\": 220892340,\n",
    "    \"Brazil\": 212559417,\n",
    "    \"Nigeria\": 206139589,\n",
    "    \"Bangladesh\": 164689383,\n",
    "    \"Russia\": 145934462,\n",
    "    \"Mexico\": 128932753,\n",
    "    \"Japan\": 126476461,\n",
    "    \"Ethiopia\": 114963588,\n",
    "    \"Philippines\": 109581078,\n",
    "    \"Egypt\": 102334404,\n",
    "    \"Vietnam\": 97338579\n",
    "}\n",
    "population[\"Egypt\"]=110000000\n",
    "print(population)"
   ]
  },
  {
   "cell_type": "code",
   "execution_count": 20,
   "metadata": {},
   "outputs": [
    {
     "name": "stdout",
     "output_type": "stream",
     "text": [
      "enter the name of the country Egypt\n"
     ]
    },
    {
     "data": {
      "text/plain": [
       "True"
      ]
     },
     "execution_count": 20,
     "metadata": {},
     "output_type": "execute_result"
    }
   ],
   "source": [
    "# Write a function to check if a country exists in the dictionary.\n",
    "population = {\n",
    "    \"China\": 1444216107,\n",
    "    \"India\": 1393409038,\n",
    "    \"United States\": 331002651,\n",
    "    \"Indonesia\": 273523615,\n",
    "    \"Pakistan\": 220892340,\n",
    "    \"Brazil\": 212559417,\n",
    "    \"Nigeria\": 206139589,\n",
    "    \"Bangladesh\": 164689383,\n",
    "    \"Russia\": 145934462,\n",
    "    \"Mexico\": 128932753,\n",
    "    \"Japan\": 126476461,\n",
    "    \"Ethiopia\": 114963588,\n",
    "    \"Philippines\": 109581078,\n",
    "    \"Egypt\": 102334404,\n",
    "    \"Vietnam\": 97338579\n",
    "}\n",
    "def check_fn(dic):\n",
    "    user_input=input(\"enter the name of the country \")\n",
    "    for i in dic :\n",
    "        if i==user_input : \n",
    "            return True \n",
    "check_fn(population)"
   ]
  },
  {
   "cell_type": "code",
   "execution_count": 22,
   "metadata": {},
   "outputs": [
    {
     "name": "stdout",
     "output_type": "stream",
     "text": [
      "enter name of the country: Egypt\n"
     ]
    },
    {
     "data": {
      "text/plain": [
       "102334404"
      ]
     },
     "execution_count": 22,
     "metadata": {},
     "output_type": "execute_result"
    }
   ],
   "source": [
    "# Write a function to get the population of a specific country.\n",
    "population = {\n",
    "    \"China\": 1444216107,\n",
    "    \"India\": 1393409038,\n",
    "    \"United States\": 331002651,\n",
    "    \"Indonesia\": 273523615,\n",
    "    \"Pakistan\": 220892340,\n",
    "    \"Brazil\": 212559417,\n",
    "    \"Nigeria\": 206139589,\n",
    "    \"Bangladesh\": 164689383,\n",
    "    \"Russia\": 145934462,\n",
    "    \"Mexico\": 128932753,\n",
    "    \"Japan\": 126476461,\n",
    "    \"Ethiopia\": 114963588,\n",
    "    \"Philippines\": 109581078,\n",
    "    \"Egypt\": 102334404,\n",
    "    \"Vietnam\": 97338579\n",
    "}\n",
    "def get_pop(dic):\n",
    "    user_input=input(\"enter name of the country: \")\n",
    "    return dic.get(user_input)\n",
    "get_pop(population)"
   ]
  },
  {
   "cell_type": "code",
   "execution_count": 23,
   "metadata": {},
   "outputs": [
    {
     "name": "stdout",
     "output_type": "stream",
     "text": [
      "{}\n"
     ]
    }
   ],
   "source": [
    "# Write a function to clear all entries from the dictionary\n",
    "population = {\n",
    "    \"China\": 1444216107,\n",
    "    \"India\": 1393409038,\n",
    "    \"United States\": 331002651,\n",
    "    \"Indonesia\": 273523615,\n",
    "    \"Pakistan\": 220892340,\n",
    "    \"Brazil\": 212559417,\n",
    "    \"Nigeria\": 206139589,\n",
    "    \"Bangladesh\": 164689383,\n",
    "    \"Russia\": 145934462,\n",
    "    \"Mexico\": 128932753,\n",
    "    \"Japan\": 126476461,\n",
    "    \"Ethiopia\": 114963588,\n",
    "    \"Philippines\": 109581078,\n",
    "    \"Egypt\": 102334404,\n",
    "    \"Vietnam\": 97338579\n",
    "}\n",
    "population.clear()\n",
    "print(population)\n"
   ]
  },
  {
   "cell_type": "code",
   "execution_count": 29,
   "metadata": {},
   "outputs": [
    {
     "data": {
      "text/plain": [
       "{1: 1, 2: 2, 3: 3, 4: 4, 5: 5, 6: 6}"
      ]
     },
     "execution_count": 29,
     "metadata": {},
     "output_type": "execute_result"
    }
   ],
   "source": [
    "# Write a function to merge two dictionaries.\n",
    "def merge(dic1,dic2):\n",
    "    dic1.update(dic2)\n",
    "    return dic1\n",
    "         \n",
    "user_dic1={1:1,2:2,3:3}\n",
    "user_dic2={4:4,5:5,6:6}\n",
    "merge(user_dic1,user_dic2)"
   ]
  },
  {
   "cell_type": "code",
   "execution_count": 2,
   "metadata": {},
   "outputs": [
    {
     "name": "stdout",
     "output_type": "stream",
     "text": [
      "{3: 50, 2: 100, 4: 300, 1: 400}\n"
     ]
    }
   ],
   "source": [
    "# Write a function to sort a dictionary by its values\n",
    "def sorting_dic(d):\n",
    "    keys = list(d.keys())\n",
    "    values = list(d.values())\n",
    "    sorted_dic = {}\n",
    "\n",
    "    for i in range(len(keys) - 1):\n",
    "        for j in range(i + 1, len(keys)):\n",
    "            if values[i] > values[j]:\n",
    "                values[i], values[j] = values[j], values[i]\n",
    "                keys[i], keys[j] = keys[j], keys[i]\n",
    "\n",
    "    for i in range(len(keys)):\n",
    "        sorted_dic[keys[i]] = values[i]  \n",
    "\n",
    "    print(sorted_dic)\n",
    "\n",
    "user_dic = {1: 400, 2: 100, 3: 50, 4: 300}\n",
    "sorting_dic(user_dic)\n"
   ]
  },
  {
   "cell_type": "code",
   "execution_count": 7,
   "metadata": {},
   "outputs": [
    {
     "data": {
      "text/plain": [
       "'not empty'"
      ]
     },
     "execution_count": 7,
     "metadata": {},
     "output_type": "execute_result"
    }
   ],
   "source": [
    "# Write a function to check if a dictionary is empty.\n",
    "def check(dic):\n",
    "    if dic=={}:\n",
    "        return \"empty\"\n",
    "    else : \n",
    "        return \"not empty\"\n",
    "user_dic = {1: 400, 2: 100, 3: 50, 4: 300}\n",
    "check(user_dic)"
   ]
  },
  {
   "cell_type": "code",
   "execution_count": 8,
   "metadata": {},
   "outputs": [
    {
     "data": {
      "text/plain": [
       "'China'"
      ]
     },
     "execution_count": 8,
     "metadata": {},
     "output_type": "execute_result"
    }
   ],
   "source": [
    "# Write a function to find the country with the highest population density.\n",
    "population = {\n",
    "    \"China\": 1444216107,\n",
    "    \"India\": 1393409038,\n",
    "    \"United States\": 331002651,\n",
    "    \"Indonesia\": 273523615,\n",
    "    \"Pakistan\": 220892340,\n",
    "    \"Brazil\": 212559417,\n",
    "    \"Nigeria\": 206139589,\n",
    "    \"Bangladesh\": 164689383,\n",
    "    \"Russia\": 145934462,\n",
    "    \"Mexico\": 128932753,\n",
    "    \"Japan\": 126476461,\n",
    "    \"Ethiopia\": 114963588,\n",
    "    \"Philippines\": 109581078,\n",
    "    \"Egypt\": 102334404,\n",
    "    \"Vietnam\": 97338579\n",
    "}\n",
    "def find_highest(dic):\n",
    "    x=max(dic.values())\n",
    "    for i in dic :\n",
    "         if dic[i]==x :\n",
    "            return i \n",
    "#         print (i) \n",
    "#         print(type(i))\n",
    "       \n",
    "\n",
    "find_highest(population)"
   ]
  },
  {
   "cell_type": "code",
   "execution_count": 11,
   "metadata": {},
   "outputs": [
    {
     "data": {
      "text/plain": [
       "{1: 10, 2: 20, 4: 30, 5: 40, 6: 50}"
      ]
     },
     "execution_count": 11,
     "metadata": {},
     "output_type": "execute_result"
    }
   ],
   "source": [
    "def forming_dic(keys,values):\n",
    "    dic={}\n",
    "    n=len(keys)\n",
    "    for i in range(n):\n",
    "        dic[keys[i]]=values[i]\n",
    "    return dic\n",
    "    \n",
    "    \n",
    "    \n",
    "user_keys=[1,2,4,5,6]\n",
    "user_values=[10,20,30,40,50,60]\n",
    "forming_dic(user_keys,user_values)"
   ]
  },
  {
   "cell_type": "markdown",
   "metadata": {
    "id": "O1pdoP0WpIco"
   },
   "source": [
    "# Problem 3: Tuple Operations\n",
    "\n",
    "# Create a tuple containing the names of 10 programming languages.\n",
    "# Write a function to reverse the elements of a tuple.\n",
    "# Write a function to find the index of a specific element in a tuple.\n",
    "# Write a function to convert a tuple to a list.\n",
    "# Write a function to count the occurrences of a specific element in a tuple.\n",
    "# Write a function to find the length of a tuple.\n",
    "# Write a function to check if two tuples are equal.\n",
    "# Write a function to slice a tuple.\n",
    "# Write a function to convert a tuple to a string.\n",
    "# Write a function to sort a tuple of tuples by the second element.\n",
    "# Write a function to zip two tuples.\n",
    "# Write a function to convert a tuple of strings to a single string.\n",
    "# Write a function to find the average value of a tuple of numbers.\n",
    "# Write a function to flatten a tuple of tuples into a single tuple.\n",
    "# Write a function to find the index of the first occurrence of a tuple within another tuple."
   ]
  },
  {
   "cell_type": "markdown",
   "metadata": {
    "id": "vpkpAF2YpWte"
   },
   "source": []
  },
  {
   "cell_type": "code",
   "execution_count": null,
   "metadata": {},
   "outputs": [],
   "source": [
    "# Create a tuple containing the names of 10 programming languages.\n",
    "programming_languages = (\"Python\", \"Java\", \"JavaScript\", \"C++\", \"C#\", \"Ruby\", \"Swift\", \"Go\", \"Rust\", \"PHP\")\n"
   ]
  },
  {
   "cell_type": "code",
   "execution_count": 1,
   "metadata": {},
   "outputs": [
    {
     "data": {
      "text/plain": [
       "('PHP',\n",
       " 'Rust',\n",
       " 'Go',\n",
       " 'Swift',\n",
       " 'Ruby',\n",
       " 'C#',\n",
       " 'C++',\n",
       " 'JavaScript',\n",
       " 'Java',\n",
       " 'Python')"
      ]
     },
     "execution_count": 1,
     "metadata": {},
     "output_type": "execute_result"
    }
   ],
   "source": [
    "# Write a function to reverse the elements of a tuple.\n",
    "programming_languages = (\"Python\", \"Java\", \"JavaScript\", \"C++\", \"C#\", \"Ruby\", \"Swift\", \"Go\", \"Rust\", \"PHP\")\n",
    "def reverse(t):\n",
    "    return t[::-1]\n",
    "reverse(programming_languages)\n"
   ]
  },
  {
   "cell_type": "code",
   "execution_count": 5,
   "metadata": {},
   "outputs": [
    {
     "name": "stdout",
     "output_type": "stream",
     "text": [
      "enter a name of programming language Python\n",
      "the index of  Python is 0\n"
     ]
    }
   ],
   "source": [
    "# Write a function to find the index of a specific element in a tuple.\n",
    "programming_languages = (\"Python\", \"Java\", \"JavaScript\", \"C++\", \"C#\", \"Ruby\", \"Swift\", \"Go\", \"Rust\", \"PHP\")\n",
    "def find_index(t,user):\n",
    "    x=t.index(user)\n",
    "    print(\"the index of \",user,\"is\",x )\n",
    "user_input=input(\"enter a name of programming language \")\n",
    "find_index(programming_languages,user_input)\n",
    "    \n",
    "    \n"
   ]
  },
  {
   "cell_type": "code",
   "execution_count": 6,
   "metadata": {},
   "outputs": [
    {
     "data": {
      "text/plain": [
       "['Python',\n",
       " 'Java',\n",
       " 'JavaScript',\n",
       " 'C++',\n",
       " 'C#',\n",
       " 'Ruby',\n",
       " 'Swift',\n",
       " 'Go',\n",
       " 'Rust',\n",
       " 'PHP']"
      ]
     },
     "execution_count": 6,
     "metadata": {},
     "output_type": "execute_result"
    }
   ],
   "source": [
    "# Write a function to convert a tuple to a list.\n",
    "def conv(t):\n",
    "    return list(t)\n",
    "programming_languages = (\"Python\", \"Java\", \"JavaScript\", \"C++\", \"C#\", \"Ruby\", \"Swift\", \"Go\", \"Rust\", \"PHP\")\n",
    "conv(programming_languages)\n"
   ]
  },
  {
   "cell_type": "code",
   "execution_count": 8,
   "metadata": {},
   "outputs": [
    {
     "name": "stdout",
     "output_type": "stream",
     "text": [
      "enter the element you want to count its occurance 1\n"
     ]
    },
    {
     "data": {
      "text/plain": [
       "4"
      ]
     },
     "execution_count": 8,
     "metadata": {},
     "output_type": "execute_result"
    }
   ],
   "source": [
    "# Write a function to count the occurrences of a specific element in a tuple.\n",
    "def count(t,user):\n",
    "    x=t.count(user)\n",
    "    return x \n",
    "user_tuple=(1,2,4,5,5,1,2,3,1,2,4,1,5)\n",
    "user_input=int(input(\"enter the element you want to count its occurance \"))\n",
    "count(user_tuple,user_input)\n",
    "\n"
   ]
  },
  {
   "cell_type": "code",
   "execution_count": 9,
   "metadata": {},
   "outputs": [
    {
     "data": {
      "text/plain": [
       "13"
      ]
     },
     "execution_count": 9,
     "metadata": {},
     "output_type": "execute_result"
    }
   ],
   "source": [
    "# Write a function to find the length of a tuple.\n",
    "def length(t):\n",
    "    return len(t)\n",
    "user_tuple=(1,2,4,5,5,1,2,3,1,2,4,1,5)\n",
    "length(user_tuple)"
   ]
  },
  {
   "cell_type": "code",
   "execution_count": 13,
   "metadata": {},
   "outputs": [
    {
     "data": {
      "text/plain": [
       "'they are equal '"
      ]
     },
     "execution_count": 13,
     "metadata": {},
     "output_type": "execute_result"
    }
   ],
   "source": [
    "# Write a function to check if two tuples are equal.\n",
    "def check_eq(t1,t2):\n",
    "    t1=set(t1)\n",
    "    t2=set(t2)\n",
    "    if t1^t2==set():\n",
    "        return \"they are equal \"\n",
    "    else : \n",
    "        return \"they are not equal \"\n",
    "user_t1=(1,2,3,4)\n",
    "user_t2=(1,2,3,4)\n",
    "check_eq(user_t1,user_t2)"
   ]
  },
  {
   "cell_type": "code",
   "execution_count": 15,
   "metadata": {},
   "outputs": [
    {
     "data": {
      "text/plain": [
       "(2, 3, 4, 6)"
      ]
     },
     "execution_count": 15,
     "metadata": {},
     "output_type": "execute_result"
    }
   ],
   "source": [
    "# Write a function to slice a tuple.\n",
    "def SLICE(t):\n",
    "    return t[1:5]\n",
    "\n",
    "user_t1=(1,2,3,4,6,7,8,4,1,2)\n",
    "SLICE(user_t1)\n",
    "\n"
   ]
  },
  {
   "cell_type": "code",
   "execution_count": 16,
   "metadata": {},
   "outputs": [
    {
     "data": {
      "text/plain": [
       "'(1, 2, 3, 4, 6, 7, 8, 4, 1, 2)'"
      ]
     },
     "execution_count": 16,
     "metadata": {},
     "output_type": "execute_result"
    }
   ],
   "source": [
    "# Write a function to convert a tuple to a string.\n",
    "def conv_str(t):\n",
    "    return str(t)\n",
    "user_t1=(1,2,3,4,6,7,8,4,1,2)\n",
    "conv_str(user_t1)\n",
    "\n"
   ]
  },
  {
   "cell_type": "code",
   "execution_count": 27,
   "metadata": {},
   "outputs": [
    {
     "data": {
      "text/plain": [
       "[(4, 1), (2, 3), (0, 5), (1, 5), (5, 6), (3, 8)]"
      ]
     },
     "execution_count": 27,
     "metadata": {},
     "output_type": "execute_result"
    }
   ],
   "source": [
    "import operator\n",
    "def func(t):\n",
    "    sorted_t=sorted(t,key=operator.itemgetter(1,0))\n",
    "    return sorted_t\n",
    "    \n",
    "    \n",
    "tuple_of_tuples= ((1, 5), (2, 3), (3, 8), (4, 1), (5, 6),(0,5))\n",
    "func(tuple_of_tuples)\n",
    "\n"
   ]
  },
  {
   "cell_type": "code",
   "execution_count": 29,
   "metadata": {},
   "outputs": [
    {
     "data": {
      "text/plain": [
       "('hazem', 'hamdy', 'hafez', 'ahmed', 'ali', 'mohamed')"
      ]
     },
     "execution_count": 29,
     "metadata": {},
     "output_type": "execute_result"
    }
   ],
   "source": [
    "# Write a function to zip two tuples.\n",
    "def zip_fn(t1,t2):\n",
    "    return t1+t2\n",
    "\n",
    "user_t1=(\"hazem\",\"hamdy\",\"hafez\")\n",
    "user_t2=(\"ahmed\",\"ali\",\"mohamed\")\n",
    "zip_fn(user_t1,user_t2)"
   ]
  },
  {
   "cell_type": "code",
   "execution_count": 34,
   "metadata": {},
   "outputs": [
    {
     "data": {
      "text/plain": [
       "'hazem hamdy hafez'"
      ]
     },
     "execution_count": 34,
     "metadata": {},
     "output_type": "execute_result"
    }
   ],
   "source": [
    "# Write a function to convert a tuple of strings to a single string.\n",
    "def conv(t,separator=\" \"):\n",
    "    return separator.join(t)\n",
    "\n",
    "user_t1=(\"hazem\",\"hamdy\",\"hafez\")\n",
    "conv(user_t1)\n"
   ]
  },
  {
   "cell_type": "code",
   "execution_count": 35,
   "metadata": {},
   "outputs": [
    {
     "data": {
      "text/plain": [
       "4.0"
      ]
     },
     "execution_count": 35,
     "metadata": {},
     "output_type": "execute_result"
    }
   ],
   "source": [
    "# Write a function to find the average value of a tuple of numbers.\n",
    "def avg(t):\n",
    "    n=len(t)\n",
    "    count=0\n",
    "    for i in t :\n",
    "        count+=i\n",
    "    return count/n\n",
    "        \n",
    "user_t=(1,2,3,4,5,6,7)\n",
    "avg(user_t)"
   ]
  }
 ],
 "metadata": {
  "colab": {
   "provenance": []
  },
  "kernelspec": {
   "display_name": "Python 3 (ipykernel)",
   "language": "python",
   "name": "python3"
  },
  "language_info": {
   "codemirror_mode": {
    "name": "ipython",
    "version": 3
   },
   "file_extension": ".py",
   "mimetype": "text/x-python",
   "name": "python",
   "nbconvert_exporter": "python",
   "pygments_lexer": "ipython3",
   "version": "3.11.5"
  }
 },
 "nbformat": 4,
 "nbformat_minor": 1
}
