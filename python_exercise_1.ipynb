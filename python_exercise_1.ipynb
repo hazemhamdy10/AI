{
 "cells": [
  {
   "cell_type": "markdown",
   "id": "759d04ba",
   "metadata": {
    "id": "759d04ba"
   },
   "source": [
    "**1-Write a Python program to calculate the length of a string using 2 ways"
   ]
  },
  {
   "cell_type": "code",
   "execution_count": 5,
   "id": "e434c950",
   "metadata": {
    "id": "e434c950"
   },
   "outputs": [
    {
     "name": "stdout",
     "output_type": "stream",
     "text": [
      "5\n"
     ]
    }
   ],
   "source": [
    "#using for loop\n",
    "x=\"hazem\"\n",
    "counter=0\n",
    "for i in x : \n",
    "    counter+=1\n",
    "print(counter)"
   ]
  },
  {
   "cell_type": "code",
   "execution_count": 6,
   "id": "7a2dfa32",
   "metadata": {
    "id": "7a2dfa32"
   },
   "outputs": [
    {
     "name": "stdout",
     "output_type": "stream",
     "text": [
      "5\n"
     ]
    }
   ],
   "source": [
    "#using while \n",
    "x=\"hazem\"\n",
    "counter=0 \n",
    "i=0 \n",
    "x=x+\".\"\n",
    "while (x[i]!=\".\"):\n",
    "    counter+=1\n",
    "    i+=1\n",
    "print(counter)\n"
   ]
  },
  {
   "cell_type": "code",
   "execution_count": 7,
   "id": "725578b8",
   "metadata": {},
   "outputs": [
    {
     "name": "stdout",
     "output_type": "stream",
     "text": [
      "5\n"
     ]
    }
   ],
   "source": [
    "#using len (built-in function)\n",
    "x=\"hazem\"\n",
    "print(len(x))"
   ]
  },
  {
   "cell_type": "markdown",
   "id": "d7cc9da7",
   "metadata": {
    "id": "d7cc9da7"
   },
   "source": [
    "**2-Write a Python program to get a string made of the first 2 and last 2 characters of a given string. If the string length is less than 2, return the empty string instead (\"##Sample String : 'w3resource'\n",
    "Expected Result : 'w3ce'\n",
    "##Sample String : 'w3'\n",
    "Expected Result : 'w3w3'\n",
    "##Sample String : ' w'\n",
    "Expected Result : Empty String)"
   ]
  },
  {
   "cell_type": "code",
   "execution_count": 13,
   "id": "dafa9dd8",
   "metadata": {
    "id": "dafa9dd8"
   },
   "outputs": [
    {
     "name": "stdout",
     "output_type": "stream",
     "text": [
      "please enter a string : W3resource\n",
      "W3ce\n"
     ]
    }
   ],
   "source": [
    "x=input(\"please enter a string : \")\n",
    "if len(x)<2 :\n",
    "    print(\"Empty String\")\n",
    "else : \n",
    "    print(x[0]+x[1]+x[len(x)-2]+x[len(x)-1])"
   ]
  },
  {
   "cell_type": "code",
   "execution_count": 1,
   "id": "999c3091",
   "metadata": {},
   "outputs": [
    {
     "name": "stdout",
     "output_type": "stream",
     "text": [
      "please enter a string : W3\n",
      "W3W3\n"
     ]
    }
   ],
   "source": [
    "x=input(\"please enter a string : \")\n",
    "if len(x)<2 :\n",
    "    print(\"Empty String\")\n",
    "else : \n",
    "    print(x[0]+x[1]+x[len(x)-2]+x[len(x)-1])"
   ]
  },
  {
   "cell_type": "code",
   "execution_count": 2,
   "id": "e7f3857f",
   "metadata": {},
   "outputs": [
    {
     "name": "stdout",
     "output_type": "stream",
     "text": [
      "please enter a string : w\n",
      "Empty String\n"
     ]
    }
   ],
   "source": [
    "x=input(\"please enter a string : \")\n",
    "if len(x)<2 :\n",
    "    print(\"Empty String\")\n",
    "else : \n",
    "    print(x[0]+x[1]+x[len(x)-2]+x[len(x)-1])"
   ]
  },
  {
   "cell_type": "markdown",
   "id": "1534f956",
   "metadata": {
    "id": "1534f956"
   },
   "source": [
    "**3-Write a Python program to add 'ing' at the end of a given string (length should be at least 3). If the given string already ends with 'ing', add 'ly' instead. If the string length of the given string is less than 3, leave it unchanged. (Sample String : 'abc'\n",
    "Expected Result : 'abcing')"
   ]
  },
  {
   "cell_type": "code",
   "execution_count": 4,
   "id": "7ff8cec4",
   "metadata": {
    "id": "7ff8cec4"
   },
   "outputs": [
    {
     "name": "stdout",
     "output_type": "stream",
     "text": [
      "please enter a string : abc\n",
      "abcing\n"
     ]
    }
   ],
   "source": [
    "x=input(\"please enter a string : \")\n",
    "if len(x)<3 :\n",
    "    print(x)\n",
    "else : \n",
    "    if (x[(len(x)-3):]==\"ing\"):\n",
    "        print(x[:(len(x)-3)]+\"ly\")\n",
    "    else : \n",
    "        print(x+\"ing\")\n",
    "        "
   ]
  },
  {
   "cell_type": "markdown",
   "id": "1c0a6627",
   "metadata": {
    "id": "1c0a6627"
   },
   "source": [
    "**4-Write a Python function that takes a list of words and return the longest word and the length of the longest one\n",
    "(Longest word: Exercises\n",
    "Length of the longest word: 9)"
   ]
  },
  {
   "cell_type": "code",
   "execution_count": 4,
   "id": "397341d9",
   "metadata": {
    "id": "397341d9"
   },
   "outputs": [
    {
     "name": "stdout",
     "output_type": "stream",
     "text": [
      "enter word please and type exit when you finish : a\n",
      "enter word please and type exit when you finish : ab\n",
      "enter word please and type exit when you finish : abc\n",
      "enter word please and type exit when you finish : abcd\n",
      "enter word please and type exit when you finish : abcde\n",
      "enter word please and type exit when you finish : exit\n",
      "the longest word is : abcde\n",
      "the length of the longest word is : 5\n"
     ]
    }
   ],
   "source": [
    "l=[]\n",
    "while True : \n",
    "    x=input(\"enter word please and type exit when you finish : \")\n",
    "    if(x.lower()==\"exit\"):\n",
    "        break\n",
    "    l.append(x)\n",
    "longest_word=\"\"\n",
    "for i in l : \n",
    "    if len(i)>len(longest_word):\n",
    "        longest_word=i\n",
    "print(\"the longest word is :\",longest_word)\n",
    "print(\"the length of the longest word is :\",len(longest_word))\n"
   ]
  },
  {
   "cell_type": "markdown",
   "id": "53a03a6a",
   "metadata": {
    "id": "53a03a6a"
   },
   "source": [
    "**5-Write a Python program to change a given string to a newly string where the first and last chars have been exchanged using 2 ways (Sample String:abca  Expected Result:ebce)"
   ]
  },
  {
   "cell_type": "code",
   "execution_count": 25,
   "id": "fd327d2a",
   "metadata": {
    "id": "fd327d2a"
   },
   "outputs": [
    {
     "name": "stdout",
     "output_type": "stream",
     "text": [
      "please enter a string : abca\n",
      "ebce\n"
     ]
    }
   ],
   "source": [
    "s=input(\"please enter a string : \")\n",
    "print('e'+s[1:len(s)-1]+'e')"
   ]
  },
  {
   "cell_type": "code",
   "execution_count": 7,
   "id": "285788b4",
   "metadata": {
    "id": "285788b4"
   },
   "outputs": [
    {
     "name": "stdout",
     "output_type": "stream",
     "text": [
      "please enter a string : abca\n",
      "ebce\n"
     ]
    }
   ],
   "source": [
    "s=input(\"please enter a string : \")\n",
    "l=''\n",
    "for i in range(1,len(s)-1) :\n",
    "    l=l+s[i]\n",
    "l='e'+l+'e'\n",
    "print(l)\n",
    "    \n",
    "    \n",
    "    \n",
    "    "
   ]
  },
  {
   "cell_type": "code",
   "execution_count": 5,
   "id": "87ad91f9",
   "metadata": {},
   "outputs": [
    {
     "name": "stdout",
     "output_type": "stream",
     "text": [
      "a\n"
     ]
    }
   ],
   "source": [
    "l=''+\"a\"\n",
    "print(l)"
   ]
  },
  {
   "cell_type": "markdown",
   "id": "25f89808",
   "metadata": {
    "id": "25f89808"
   },
   "source": [
    "**6-Write a Python program to remove characters that have odd index values in a given string (Sample String:abca Expected Result:ac)"
   ]
  },
  {
   "cell_type": "code",
   "execution_count": 7,
   "id": "05959bd7",
   "metadata": {
    "id": "05959bd7"
   },
   "outputs": [
    {
     "name": "stdout",
     "output_type": "stream",
     "text": [
      "enter a string : abca\n",
      "ac"
     ]
    }
   ],
   "source": [
    "x=input(\"enter a string : \")\n",
    "i=0\n",
    "while i<len(x) :\n",
    "    print(x[i],end='')\n",
    "    i+=2\n",
    "    \n",
    "    "
   ]
  },
  {
   "cell_type": "markdown",
   "id": "eb16e898",
   "metadata": {
    "id": "eb16e898"
   },
   "source": [
    "**7. You have a list of your favourite marvel super heros.\n",
    "```\n",
    "heros=['spider man','thor','hulk','iron man','captain america']\n",
    "```\n",
    "\n",
    "Using this find out,\n",
    "\n",
    "    1. Length of the list\n",
    "    2. Add 'black panther' at the end of this list\n",
    "    3. You realize that you need to add 'black panther' after 'hulk',\n",
    "       so remove it from the list first and then add it after 'hulk'\n",
    "    4. Now you don't like thor and hulk because they get angry easily :)\n",
    "       So you want to remove thor and hulk from list and replace them with doctor strange (because he is cool).\n",
    "       Do that with one line of code.\n",
    "    5. Sort the heros list in alphabetical order (Hint. Use dir() functions to list down all functions available in list)"
   ]
  },
  {
   "cell_type": "code",
   "execution_count": 14,
   "id": "01ce6cf5",
   "metadata": {
    "id": "01ce6cf5"
   },
   "outputs": [
    {
     "name": "stdout",
     "output_type": "stream",
     "text": [
      "5\n",
      "['spider man', 'thor', 'hulk', 'iron man', 'captain america', 'black panther']\n",
      "['spider man', 'thor', 'black panther', 'hulk', 'iron man', 'captain america']\n",
      "['spider man', 'doctor strange', 'black panther', 'iron man', 'captain america']\n",
      "['black panther', 'captain america', 'doctor strange', 'iron man', 'spider man']\n"
     ]
    }
   ],
   "source": [
    "heros=['spider man','thor','hulk','iron man','captain america']\n",
    "print(len(heros)) # length of the list\n",
    "#########################\n",
    "heros.append(\"black panther\")\n",
    "print(heros)       # add black panther to the list\n",
    "############################\n",
    "heros.remove('black panther')\n",
    "heros.insert(2,'black panther')    #remove it from the list first and then add it after 'hulk'\n",
    "print(heros)\n",
    "############################\n",
    "heros.remove('thor'),heros.remove('hulk'),heros.insert(1,'doctor strange')\n",
    "print(heros)\n",
    "heros.sort()\n",
    "print(heros)"
   ]
  },
  {
   "cell_type": "markdown",
   "id": "4e8125f1",
   "metadata": {
    "id": "4e8125f1"
   },
   "source": [
    "**8-Write a Python script that takes input from the user and displays that input back in upper and lower cases"
   ]
  },
  {
   "cell_type": "code",
   "execution_count": 20,
   "id": "66c8f778",
   "metadata": {
    "id": "66c8f778"
   },
   "outputs": [
    {
     "name": "stdout",
     "output_type": "stream",
     "text": [
      "enter a string : HAZEM HAMDY HAFEZ\n",
      "the upper case for the entered string is HAZEM HAMDY HAFEZ\n",
      "the lower case for the entered string is hazem hamdy hafez\n"
     ]
    }
   ],
   "source": [
    "def upper_case(x):\n",
    "    print(x.upper())\n",
    "def lower_case(x):\n",
    "    print(x.lower())\n",
    "user_input=input(\"enter a string : \")\n",
    "print(\"the upper case for the entered string is \",end='')\n",
    "upper_case(user_input)\n",
    "print(\"the lower case for the entered string is \",end='')\n",
    "lower_case(user_input)\n"
   ]
  },
  {
   "cell_type": "markdown",
   "id": "fcd68aa1",
   "metadata": {
    "id": "fcd68aa1"
   },
   "source": [
    "**9-Write a Python function to reverse a string if its length is a multiple of 4"
   ]
  },
  {
   "cell_type": "code",
   "execution_count": 22,
   "id": "0671a931",
   "metadata": {
    "id": "0671a931"
   },
   "outputs": [
    {
     "name": "stdout",
     "output_type": "stream",
     "text": [
      "enter a string : abcd\n",
      "dcba\n"
     ]
    }
   ],
   "source": [
    "x=input(\"enter a string : \")\n",
    "if (len(x)%4==0):\n",
    "    x=x[::-1]\n",
    "    print(x)\n",
    "else : \n",
    "    print(\"the length of the entered string is not multiple of 4\")"
   ]
  },
  {
   "cell_type": "markdown",
   "id": "b577c68d",
   "metadata": {
    "id": "b577c68d"
   },
   "source": [
    "**10- Write a Python program to remove a newline in Python"
   ]
  },
  {
   "cell_type": "code",
   "execution_count": 30,
   "id": "e0c6525a",
   "metadata": {
    "id": "e0c6525a"
   },
   "outputs": [
    {
     "name": "stdout",
     "output_type": "stream",
     "text": [
      "hazem hamdy\n"
     ]
    }
   ],
   "source": [
    "def remove_newline(x):\n",
    "    x=x.replace(\"\\n\",\" \")\n",
    "    print(x)\n",
    "string_with_newline=\"hazem\\nhamdy\"\n",
    "remove_newline(string_with_newline)"
   ]
  },
  {
   "cell_type": "markdown",
   "id": "593a68db",
   "metadata": {
    "id": "593a68db"
   },
   "source": [
    "**11- Write a Python program to add prefix text to all of the lines in a string\n"
   ]
  },
  {
   "cell_type": "code",
   "execution_count": 40,
   "id": "f788bf87",
   "metadata": {},
   "outputs": [
    {
     "name": "stdout",
     "output_type": "stream",
     "text": [
      "prefix hazem\n",
      "prefix hamdy\n",
      "prefix hafez\n"
     ]
    }
   ],
   "source": [
    "original_string=\"\"\"hazem\n",
    "hamdy\n",
    "hafez\"\"\"\n",
    "prefix=\"prefix\"\n",
    "words=x.split('\\n')\n",
    "for i in range(len(words)):\n",
    "    words[i]=prefix+\" \" + words[i]\n",
    "modified_string=\"\\n\".join(words)\n",
    "print(modified_string)\n"
   ]
  },
  {
   "cell_type": "markdown",
   "id": "86fa1543",
   "metadata": {
    "id": "86fa1543"
   },
   "source": [
    "**12-Write a Python program to print the following numbers up to 2 decimal places\n",
    "\n",
    "ex:\n",
    "Original Number:  3.1415926                                                                                   \n",
    "Formatted Number: 3.14                                                                                        \n",
    "Original Number:  12.9999                                                                                     \n",
    "Formatted Number: 13.00  \n"
   ]
  },
  {
   "cell_type": "code",
   "execution_count": 48,
   "id": "cd4a9d89",
   "metadata": {
    "id": "cd4a9d89"
   },
   "outputs": [
    {
     "name": "stdout",
     "output_type": "stream",
     "text": [
      "the formated first original number is : 3.14\n",
      "the formated second original number is : 13.00\n"
     ]
    }
   ],
   "source": [
    "first_Original_Number=  3.1415926 \n",
    "second_Original_Number=12.9999\n",
    "print(\"the formated first original number is : %.2f\"%first_Original_Number)\n",
    "print(\"the formated second original number is : %.2f\"%second_Original_Number)"
   ]
  },
  {
   "cell_type": "markdown",
   "id": "452c0ab0",
   "metadata": {
    "id": "452c0ab0"
   },
   "source": [
    "**13-Write a Python program to print the following numbers up to 2 decimal places with a sign"
   ]
  },
  {
   "cell_type": "code",
   "execution_count": 49,
   "id": "73e82479",
   "metadata": {
    "id": "73e82479"
   },
   "outputs": [
    {
     "name": "stdout",
     "output_type": "stream",
     "text": [
      "the formated first number is : 3.14\n",
      "the formated second number is : -5.15\n"
     ]
    }
   ],
   "source": [
    "first_number=3.1415926\n",
    "second_number=-5.14567\n",
    "print(\"the formated first number is : %.2f\"%first_number)\n",
    "print(\"the formated second number is : %.2f\"%second_number)"
   ]
  },
  {
   "cell_type": "code",
   "execution_count": 69,
   "id": "101748c8",
   "metadata": {},
   "outputs": [
    {
     "name": "stdout",
     "output_type": "stream",
     "text": [
      "3.14\n"
     ]
    }
   ],
   "source": [
    "#another way\n",
    "first_number=3.1415926\n",
    "second_number=-5.14567\n",
    "the_formated_first_number=\"{:.2f}\".format(first_number)\n",
    "print(the_formated_first_number)"
   ]
  },
  {
   "cell_type": "markdown",
   "id": "32b1811a",
   "metadata": {
    "id": "32b1811a"
   },
   "source": [
    "**14-Write a Python program to display a number with a comma separator"
   ]
  },
  {
   "cell_type": "code",
   "execution_count": 73,
   "id": "f30fc0b6",
   "metadata": {
    "id": "f30fc0b6"
   },
   "outputs": [
    {
     "name": "stdout",
     "output_type": "stream",
     "text": [
      "enter a string : 12221222\n",
      "12,221,222\n"
     ]
    }
   ],
   "source": [
    "entered_string=int(input(\"enter a string : \"))\n",
    "formated_entered_string=\"{:,}\".format(entered_string)\n",
    "print(formated_entered_string)\n"
   ]
  },
  {
   "cell_type": "markdown",
   "id": "0477f487",
   "metadata": {
    "id": "0477f487"
   },
   "source": [
    "**15-Write a Python program to reverse a string using 2 ways"
   ]
  },
  {
   "cell_type": "code",
   "execution_count": 74,
   "id": "aa8beec8",
   "metadata": {
    "id": "aa8beec8"
   },
   "outputs": [
    {
     "name": "stdout",
     "output_type": "stream",
     "text": [
      "please enter a string : hazem\n",
      "mezah\n"
     ]
    }
   ],
   "source": [
    "#first way \n",
    "def reverse_string(x):\n",
    "    x=x[::-1]\n",
    "    print(x)\n",
    "entered_string=input(\"please enter a string : \")\n",
    "reverse_string(entered_string)"
   ]
  },
  {
   "cell_type": "code",
   "execution_count": 85,
   "id": "0bbd2d4a",
   "metadata": {},
   "outputs": [
    {
     "name": "stdout",
     "output_type": "stream",
     "text": [
      "please enter a string : hazem\n",
      "mezah\n"
     ]
    }
   ],
   "source": [
    "#second way\n",
    "entered_string=input(\"please enter a string : \")\n",
    "reversed_string=\"\"\n",
    "for i in range((len(entered_string)-1),-1,-1):\n",
    "    reversed_string+=entered_string[i]\n",
    "print(reversed_string)\n",
    "    \n",
    "    \n",
    "    "
   ]
  },
  {
   "cell_type": "markdown",
   "id": "3adf5669",
   "metadata": {
    "id": "3adf5669"
   },
   "source": [
    "**16-Write a Python program to remove spaces from a given string"
   ]
  },
  {
   "cell_type": "code",
   "execution_count": 95,
   "id": "b4f22602",
   "metadata": {
    "id": "b4f22602"
   },
   "outputs": [
    {
     "name": "stdout",
     "output_type": "stream",
     "text": [
      "please enter a string : hazem hamdy\n",
      "hazemhamdy\n"
     ]
    }
   ],
   "source": [
    "entered_string=input(\"please enter a string : \")\n",
    "entered_string=entered_string.replace(\" \",\"\")\n",
    "print(entered_string)"
   ]
  },
  {
   "cell_type": "markdown",
   "id": "509998e2",
   "metadata": {
    "id": "509998e2"
   },
   "source": [
    "**17-write a Python program to swap first and last element of any list."
   ]
  },
  {
   "cell_type": "code",
   "execution_count": 96,
   "id": "68692d7f",
   "metadata": {
    "id": "68692d7f"
   },
   "outputs": [
    {
     "name": "stdout",
     "output_type": "stream",
     "text": [
      "['c', 'b', 'a']\n"
     ]
    }
   ],
   "source": [
    "l=['a','b','c']\n",
    "temp=''\n",
    "for i in range(len(l)):\n",
    "    temp=l[0]\n",
    "    l[0]=l[(len(l)-1)]\n",
    "    l[(len(l)-1)]=temp\n",
    "print(l)\n",
    "    "
   ]
  },
  {
   "cell_type": "markdown",
   "id": "959e0837",
   "metadata": {
    "id": "959e0837"
   },
   "source": [
    "**18-Given a list in Python and provided the positions of the elements, write a program to swap the two elements in the list. (Input : List = [23, 65, 19, 90], pos1 = 1, pos2 = 3\n",
    "Output : [19, 65, 23, 90])"
   ]
  },
  {
   "cell_type": "code",
   "execution_count": 30,
   "id": "225d8c6d",
   "metadata": {
    "id": "225d8c6d"
   },
   "outputs": [
    {
     "name": "stdout",
     "output_type": "stream",
     "text": [
      "please enter elements to be in a list with space between them : 1 2 3 4 5 6\n",
      "enter the first position : 1\n",
      "enter the second position : 3\n",
      "[3, 2, 1, 4, 5, 6]\n"
     ]
    }
   ],
   "source": [
    "user_input=input(\"please enter elements to be in a list with space between them : \")\n",
    "l=user_input.split()\n",
    "l=[int(x) for x in l]\n",
    "pos1 = int(input(\"enter the first position : \"))\n",
    "pos2 = int(input(\"enter the second position : \"))\n",
    "\n",
    "tmp =l[pos1-1]\n",
    "l[pos1-1]=l[pos2-1]\n",
    "l[pos2-1]=tmp\n",
    "\n",
    "print(l)\n"
   ]
  },
  {
   "cell_type": "markdown",
   "id": "66fc6682",
   "metadata": {
    "id": "66fc6682"
   },
   "source": [
    "**19- search for the all ways to know the length of the list"
   ]
  },
  {
   "cell_type": "code",
   "execution_count": 13,
   "id": "SXxZeSP45yDo",
   "metadata": {
    "id": "SXxZeSP45yDo"
   },
   "outputs": [
    {
     "name": "stdout",
     "output_type": "stream",
     "text": [
      "5\n"
     ]
    }
   ],
   "source": [
    "#using for loop\n",
    "x=\"hazem\"\n",
    "counter=0\n",
    "for i in x : \n",
    "    counter+=1\n",
    "print(counter)"
   ]
  },
  {
   "cell_type": "code",
   "execution_count": 14,
   "id": "c756605e",
   "metadata": {},
   "outputs": [
    {
     "name": "stdout",
     "output_type": "stream",
     "text": [
      "5\n"
     ]
    }
   ],
   "source": [
    "#using for loop\n",
    "x=\"hazem\"\n",
    "counter=0\n",
    "for i in x : \n",
    "    counter+=1\n",
    "print(counter)"
   ]
  },
  {
   "cell_type": "code",
   "execution_count": 15,
   "id": "6b23e312",
   "metadata": {},
   "outputs": [
    {
     "name": "stdout",
     "output_type": "stream",
     "text": [
      "5\n"
     ]
    }
   ],
   "source": [
    "#using len (built-in function)\n",
    "x=\"hazem\"\n",
    "print(len(x))"
   ]
  },
  {
   "cell_type": "markdown",
   "id": "19hrUOPJ5rmq",
   "metadata": {
    "id": "19hrUOPJ5rmq"
   },
   "source": [
    "**20-write a Python code to find the Maximum number of list of numbers."
   ]
  },
  {
   "cell_type": "code",
   "execution_count": 1,
   "id": "1a89b9d3",
   "metadata": {
    "id": "1a89b9d3"
   },
   "outputs": [
    {
     "name": "stdout",
     "output_type": "stream",
     "text": [
      "5\n"
     ]
    }
   ],
   "source": [
    "#using built-in function\n",
    "l=[1,2,3,4,5]\n",
    "print(max(l))\n"
   ]
  },
  {
   "cell_type": "code",
   "execution_count": 3,
   "id": "fe5b84d8",
   "metadata": {},
   "outputs": [
    {
     "name": "stdout",
     "output_type": "stream",
     "text": [
      "10\n"
     ]
    }
   ],
   "source": [
    "#second way\n",
    "l=[1,2,3,4,5,8,0,10]\n",
    "maximum_number_in_list=0\n",
    "for i in range(len(l)-1):\n",
    "    if l[i]<l[i+1]:\n",
    "        maximum_number_in_list=l[i+1]\n",
    "    else :\n",
    "        maximum_number_in_list=l[i]\n",
    "print(maximum_number_in_list)\n",
    "        \n",
    "    "
   ]
  },
  {
   "cell_type": "markdown",
   "id": "tdz5uTRQ50aA",
   "metadata": {
    "id": "tdz5uTRQ50aA"
   },
   "source": [
    "**21-write a Python code to find the Minimum number of list of numbers."
   ]
  },
  {
   "cell_type": "code",
   "execution_count": 5,
   "id": "21f8cbd6",
   "metadata": {
    "id": "21f8cbd6"
   },
   "outputs": [
    {
     "name": "stdout",
     "output_type": "stream",
     "text": [
      "1\n"
     ]
    }
   ],
   "source": [
    "#using built-in function\n",
    "l=[1,2,3,4,5]\n",
    "print(min(l))"
   ]
  },
  {
   "cell_type": "code",
   "execution_count": 6,
   "id": "b3624bf2",
   "metadata": {},
   "outputs": [
    {
     "name": "stdout",
     "output_type": "stream",
     "text": [
      "0\n"
     ]
    }
   ],
   "source": [
    "#second way\n",
    "l=[1,2,3,4,5,8,0,10]\n",
    "minimum_number_in_list=0\n",
    "for i in range(len(l)-1):\n",
    "    if l[i]<l[i+1]:\n",
    "        minimum_number_in_list=l[i]\n",
    "    else :\n",
    "        minimum_number_in_list=l[i+1]\n",
    "print(minimum_number_in_list)"
   ]
  },
  {
   "cell_type": "markdown",
   "id": "96822d96",
   "metadata": {
    "id": "96822d96"
   },
   "source": [
    "**22-search for if an elem is existing in list"
   ]
  },
  {
   "cell_type": "code",
   "execution_count": 12,
   "id": "51ca5c9a",
   "metadata": {
    "id": "51ca5c9a"
   },
   "outputs": [
    {
     "name": "stdout",
     "output_type": "stream",
     "text": [
      "true\n"
     ]
    }
   ],
   "source": [
    "#searching for element 'A' in a list \n",
    "l=['A','B','C','D']\n",
    "if 'A' in l : \n",
    "    print(\"true\")\n",
    "else : \n",
    "    print(\"false\")"
   ]
  },
  {
   "cell_type": "markdown",
   "id": "d9557da7",
   "metadata": {
    "id": "d9557da7"
   },
   "source": [
    "**23- clear python list using different ways"
   ]
  },
  {
   "cell_type": "code",
   "execution_count": 12,
   "id": "b69858a3",
   "metadata": {
    "id": "b69858a3"
   },
   "outputs": [
    {
     "name": "stdout",
     "output_type": "stream",
     "text": [
      "[]\n"
     ]
    }
   ],
   "source": [
    "l=['D','C','B','A']\n",
    "l.clear()\n",
    "print(l)"
   ]
  },
  {
   "cell_type": "markdown",
   "id": "52160e88",
   "metadata": {
    "id": "52160e88"
   },
   "source": [
    "**24-remove duplicated elements from a list"
   ]
  },
  {
   "cell_type": "code",
   "execution_count": 5,
   "id": "5e362228",
   "metadata": {
    "id": "5e362228"
   },
   "outputs": [
    {
     "name": "stdout",
     "output_type": "stream",
     "text": [
      "[1, 3, 2, 5, 4]\n"
     ]
    }
   ],
   "source": [
    "l=[1,2,3,4,2,5,4]\n",
    "for i in range((len(l)-1)):\n",
    "    j=i+1\n",
    "    while j < len(l):\n",
    "        if l[i]==l[j]:\n",
    "            l.remove(l[j])\n",
    "        else :\n",
    "            j+=1\n",
    "            \n",
    "print(l)\n"
   ]
  },
  {
   "cell_type": "markdown",
   "id": "c26b6e9f",
   "metadata": {
    "id": "c26b6e9f"
   },
   "source": [
    "**25-write a python program to count unique values inside a list using different ways"
   ]
  },
  {
   "cell_type": "code",
   "execution_count": 17,
   "id": "72132667",
   "metadata": {
    "id": "72132667"
   },
   "outputs": [
    {
     "name": "stdout",
     "output_type": "stream",
     "text": [
      "2\n"
     ]
    }
   ],
   "source": [
    "#using built-in function\n",
    "l=[1,2,3,4,1,4,5,6,7]\n",
    "print(l.count(1)) "
   ]
  },
  {
   "cell_type": "code",
   "execution_count": 22,
   "id": "96624e57",
   "metadata": {},
   "outputs": [
    {
     "name": "stdout",
     "output_type": "stream",
     "text": [
      "please enter the value you need to count inside the list : 1\n",
      "number of 1 in the list is : 2\n"
     ]
    }
   ],
   "source": [
    "#second way\n",
    "def counting_values(x):\n",
    "    l=[1,2,3,4,1,4,5,6,7]\n",
    "    counter=0\n",
    "    for i in l:\n",
    "        if i==x :\n",
    "            counter+=1 \n",
    "    print(counter)\n",
    "    \n",
    "value=int(input((\"please enter the value you need to count inside the list : \")))\n",
    "print(f\"number of {value} in the list is : \",end='')\n",
    "counting_values(value)\n",
    "\n",
    "            \n",
    "\n",
    "        \n",
    "        \n",
    "                   \n",
    "    \n",
    "               \n",
    "    "
   ]
  },
  {
   "cell_type": "markdown",
   "id": "fed6677c",
   "metadata": {
    "id": "fed6677c"
   },
   "source": [
    "**26-write a python program Extract all elements with Frequency greater than K (Input : test_list = [4, 6, 4, 3, 3, 4, 3, 4, 3, 8], K = 3\n",
    "Output : [4, 3] )"
   ]
  },
  {
   "cell_type": "code",
   "execution_count": 13,
   "id": "d81f3f9d",
   "metadata": {
    "id": "d81f3f9d"
   },
   "outputs": [
    {
     "data": {
      "text/plain": [
       "[4, 3]"
      ]
     },
     "execution_count": 13,
     "metadata": {},
     "output_type": "execute_result"
    }
   ],
   "source": [
    "def greater_frequency(x,k):\n",
    "    final_list=[]\n",
    "    modified_list=[]\n",
    "    for i in x :\n",
    "        if i not in modified_list :\n",
    "            modified_list.append(i)\n",
    "            if (x.count(i)>k) : \n",
    "                final_list.append(i)\n",
    "    return final_list\n",
    "        \n",
    "    \n",
    "test_list=[4,6,4,3,3,4,3,4,3,8]\n",
    "k=3\n",
    "greater_frequency(test_list,k)"
   ]
  },
  {
   "cell_type": "markdown",
   "id": "caca5224",
   "metadata": {
    "id": "caca5224"
   },
   "source": [
    "**27-write a python program to find the Strongest Neighbour (Input: 1 2 2 3 4 5\n",
    "Output:  5)"
   ]
  },
  {
   "cell_type": "code",
   "execution_count": 6,
   "id": "39fbd9b2",
   "metadata": {
    "id": "39fbd9b2"
   },
   "outputs": [
    {
     "data": {
      "text/plain": [
       "5"
      ]
     },
     "execution_count": 6,
     "metadata": {},
     "output_type": "execute_result"
    }
   ],
   "source": [
    "def strongest_neighbour(x):\n",
    "    strongest_n=max(x)\n",
    "    return strongest_n\n",
    "user_input=[1,2,2,3,4,5]\n",
    "strongest_neighbour(user_input)"
   ]
  },
  {
   "cell_type": "markdown",
   "id": "a9fa8baf",
   "metadata": {
    "id": "a9fa8baf"
   },
   "source": [
    "**28-write a Python Program to print all Possible Combinations from the three Digits (Input: [1, 2, 3]\n",
    "Output:\n",
    "1 2 3 ##\n",
    "1 3 2 ##\n",
    "2 1 3 ##\n",
    "2 3 1 ##\n",
    "3 1 2 ##\n",
    "3 2 1)"
   ]
  },
  {
   "cell_type": "code",
   "execution_count": 12,
   "id": "8c520a76",
   "metadata": {
    "id": "8c520a76"
   },
   "outputs": [
    {
     "name": "stdout",
     "output_type": "stream",
     "text": [
      "1 2 3 ## 1 3 2 ## 2 1 3 ## 2 3 1 ## 3 1 2 ## 3 2 1 ## "
     ]
    }
   ],
   "source": [
    "def possible_combination(x):\n",
    "    n=len(x)\n",
    "    for i in range(n):\n",
    "        for j in range(n):\n",
    "            for k in range(n):\n",
    "                if (i!=j)and(i!=k)and(j!=k):\n",
    "                    print(x[i],x[j],x[k],end=\" ## \")\n",
    "user_input=[1,2,3]\n",
    "possible_combination(user_input)\n",
    "    \n",
    "    "
   ]
  },
  {
   "cell_type": "markdown",
   "id": "5288bb89",
   "metadata": {
    "id": "5288bb89"
   },
   "source": [
    "**29-write a Python program to find all the Combinations in the list with the given condition (Input: test_list = [1,2,3]\n",
    "Output:\n",
    " [1], [1, 2], [1, 2, 3], [1, 3]\n",
    " [2], [2, 3], [3])"
   ]
  },
  {
   "cell_type": "code",
   "execution_count": 31,
   "id": "59b89646",
   "metadata": {
    "id": "59b89646"
   },
   "outputs": [
    {
     "name": "stdout",
     "output_type": "stream",
     "text": [
      "[1]\n",
      "[1, 2]\n",
      "[1, 3]\n",
      "[2]\n",
      "[2, 3]\n",
      "[3]\n",
      "[1, 2, 3]\n"
     ]
    }
   ],
   "source": [
    "def func1(l):\n",
    "    i = 0 \n",
    "    while (i<len(l)):\n",
    "        print([l[i]])\n",
    "        j = i + 1\n",
    "        while(j<len(l)):\n",
    "            print([l[i],l[j]])\n",
    "            j+=1\n",
    "        i+=1\n",
    "    print(l)\n",
    "        \n",
    "test_list = [1,2,3]        \n",
    "func1(test_list)        \n",
    "            "
   ]
  },
  {
   "cell_type": "markdown",
   "id": "39973705",
   "metadata": {
    "id": "39973705"
   },
   "source": [
    "**30-write a Python program to get all unique combinations of two Lists (List_1 = [\"a\",\"b\"]\n",
    "List_2 = [1,2]\n",
    "Unique_combination = [[('a',1),('b',2)],[('a',2),('b',1)]] )"
   ]
  },
  {
   "cell_type": "code",
   "execution_count": 2,
   "id": "8c4ba22b",
   "metadata": {
    "id": "8c4ba22b"
   },
   "outputs": [
    {
     "name": "stdout",
     "output_type": "stream",
     "text": [
      "[('a', 1), ('a', 2), ('b', 1), ('b', 2)]\n"
     ]
    }
   ],
   "source": [
    "def func(l1,l2):\n",
    "    i = 0\n",
    "    out = []\n",
    "    while i<len(l1):\n",
    "        j = 0\n",
    "        while j<len(l2):\n",
    "            out += [(l1[i],l2[j])]\n",
    "            j+=1\n",
    "        i+=1\n",
    "        \n",
    "    print(out)\n",
    "\n",
    "List_1 = [\"a\",\"b\"]\n",
    "List_2 = [1,2]\n",
    "\n",
    "func(List_1,List_2)\n"
   ]
  },
  {
   "cell_type": "markdown",
   "id": "255fd554",
   "metadata": {
    "id": "255fd554"
   },
   "source": [
    "**31- Write a Python program that finds all pairs of elements in a list whose sum is equal to a given value."
   ]
  },
  {
   "cell_type": "code",
   "execution_count": 13,
   "id": "c2d94e1f",
   "metadata": {
    "id": "c2d94e1f"
   },
   "outputs": [
    {
     "name": "stdout",
     "output_type": "stream",
     "text": [
      "[1, 4][2, 3][5, 0][6, -1]"
     ]
    }
   ],
   "source": [
    "def pairs_of_element(x,value):\n",
    "    n=len(x)\n",
    "    l=[]\n",
    "    for i in range(n-1):\n",
    "        for j in range(i+1,n):\n",
    "            if x[i]+x[j]==value :\n",
    "                if x[j] in l :\n",
    "                    continue\n",
    "                else:\n",
    "                    l.append(x[i])\n",
    "                    l.append(x[j])\n",
    "    for i in range(0,(len(l)-1),2):\n",
    "        print(l[i:i+2],end='')\n",
    "l=[1,2,3,4,5,6,0,-1]\n",
    "entered_value=5\n",
    "pairs_of_element(l,entered_value)\n",
    "    "
   ]
  },
  {
   "cell_type": "markdown",
   "id": "-74fqJe7BnOk",
   "metadata": {
    "id": "-74fqJe7BnOk"
   },
   "source": [
    "**32- I have a string variable called s='maine 200 banana khaye'. This of course is a wrong statement, the correct statement is 'maine 10 samosa khaye'. Replace incorrect words in original strong with new ones and print the new string. Also try to do this in one line."
   ]
  },
  {
   "cell_type": "code",
   "execution_count": 9,
   "id": "OG2czwLvBzQy",
   "metadata": {
    "id": "OG2czwLvBzQy"
   },
   "outputs": [
    {
     "name": "stdout",
     "output_type": "stream",
     "text": [
      "maine 10 samosa khaye\n"
     ]
    }
   ],
   "source": [
    "wrong_string='maine 200 banana khaye'\n",
    "corrected_string=wrong_string.replace('200','10')\n",
    "corrected_string=corrected_string.replace('banana','samosa')\n",
    "print(corrected_string)\n",
    "\n",
    "\n",
    "\n"
   ]
  },
  {
   "cell_type": "markdown",
   "id": "RXUy-aQmB7UP",
   "metadata": {
    "id": "RXUy-aQmB7UP"
   },
   "source": [
    "**33.  You have a list of your favourite marvel super heros.\n",
    "```\n",
    "heros=['spider man','thor','hulk','iron man','captain america']\n",
    "```\n",
    "\n",
    "Using this find out,\n",
    "\n",
    "    1. Length of the list\n",
    "    2. Add 'black panther' at the end of this list\n",
    "    3. You realize that you need to add 'black panther' after 'hulk',\n",
    "       so remove it from the list first and then add it after 'hulk'\n",
    "    4. Now you don't like thor and hulk because they get angry easily :)\n",
    "       So you want to remove thor and hulk from list and replace them with doctor strange (because he is cool).\n",
    "       Do that with one line of code.\n",
    "    5. Sort the heros list in alphabetical order (Hint. Use dir() functions to list down all functions available in list)"
   ]
  },
  {
   "cell_type": "code",
   "execution_count": 8,
   "id": "7QBxB-9eB9U5",
   "metadata": {
    "id": "7QBxB-9eB9U5"
   },
   "outputs": [
    {
     "name": "stdout",
     "output_type": "stream",
     "text": [
      "5\n",
      "['spider man', 'thor', 'hulk', 'iron man', 'captain america', 'black panther']\n",
      "['spider man', 'thor', 'black panther', 'hulk', 'iron man', 'captain america']\n",
      "['spider man', 'doctor strange', 'black panther', 'iron man', 'captain america']\n",
      "['black panther', 'captain america', 'doctor strange', 'iron man', 'spider man']\n"
     ]
    }
   ],
   "source": [
    "heros=['spider man','thor','hulk','iron man','captain america']\n",
    "print(len(heros)) # length of the list\n",
    "#########################\n",
    "heros.append(\"black panther\")\n",
    "print(heros)       # add black panther to the list\n",
    "############################\n",
    "heros.remove('black panther')\n",
    "heros.insert(2,'black panther')    #remove it from the list first and then add it after 'hulk'\n",
    "print(heros)\n",
    "############################\n",
    "heros.remove('thor'),heros.remove('hulk'),heros.insert(1,'doctor strange')\n",
    "print(heros)\n",
    "heros.sort()\n",
    "print(heros)"
   ]
  }
 ],
 "metadata": {
  "colab": {
   "provenance": []
  },
  "kernelspec": {
   "display_name": "Python 3 (ipykernel)",
   "language": "python",
   "name": "python3"
  },
  "language_info": {
   "codemirror_mode": {
    "name": "ipython",
    "version": 3
   },
   "file_extension": ".py",
   "mimetype": "text/x-python",
   "name": "python",
   "nbconvert_exporter": "python",
   "pygments_lexer": "ipython3",
   "version": "3.11.5"
  }
 },
 "nbformat": 4,
 "nbformat_minor": 5
}
