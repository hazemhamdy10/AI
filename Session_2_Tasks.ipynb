{
 "cells": [
  {
   "cell_type": "markdown",
   "metadata": {
    "id": "N8blBjfzqU6I"
   },
   "source": [
    "# Session 2 Tasks"
   ]
  },
  {
   "cell_type": "markdown",
   "metadata": {
    "id": "10XjML4cqZa4"
   },
   "source": [
    "1. Create 3 variables to store street, city and country, now create address variable to\n",
    "store entire address. Use two ways of creating this variable, one using + operator and the other using f-string.\n",
    "Now Print the address in such a way that the street, city and country prints in a separate line\n",
    "2. Create a variable to store the string \"Earth revolves around the sun\"\n",
    "    1. Print \"revolves\" using slice operator\n",
    "    2. Print \"sun\" using negative index\n",
    "3. Create two variables to store how many fruits and vegetables you eat in a day.\n",
    "Now Print \"I eat x veggies and y fruits daily\" where x and y presents vegetables and fruits that you eat everyday. Use python f string for this.\n",
    "4. I have a string variable called s='maine 200 banana khaye'. This of course is a\n",
    "wrong statement, the correct statement is 'maine 10 samosa khaye'.\n",
    "Replace incorrect words in original strong with new ones and print the new string.\n",
    "Also try to do this in one line.\n"
   ]
  },
  {
   "cell_type": "code",
   "execution_count": 5,
   "metadata": {
    "id": "P4EUN6nuqUPf"
   },
   "outputs": [
    {
     "name": "stdout",
     "output_type": "stream",
     "text": [
      "Amir mostafa Alexandria Egypt\n",
      "Amir mostafa Alexandria Egypt\n"
     ]
    }
   ],
   "source": [
    "#Create 3 variables to store street, city and country, now create address variable to store entire address.Use two ways of creating this variable, one using + operator and the other using f-string. Now Print the address in such a way that the street, city and country prints in a separate line\n",
    "street= \"Amir mostafa\"\n",
    "city= \"Alexandria\"\n",
    "country=\"Egypt\"\n",
    "using_plus_operator= street+\" \"+ city+\" \" + country \n",
    "using_f_string= f\"{street} {city} {country}\"\n",
    "print(using_plus_operator)\n",
    "print(using_f_string)"
   ]
  },
  {
   "cell_type": "code",
   "execution_count": 13,
   "metadata": {},
   "outputs": [
    {
     "name": "stdout",
     "output_type": "stream",
     "text": [
      "revolves\n",
      "sun\n"
     ]
    }
   ],
   "source": [
    "#Create a variable to store the string \"Earth revolves around the sun\" .Print \"revolves\" using slice operator .Print \"sun\" using negative index\n",
    "x=\"Earth revolves around the sun\"\n",
    "print(x[6:14])\n",
    "print(x[-3:])"
   ]
  },
  {
   "cell_type": "code",
   "execution_count": 15,
   "metadata": {},
   "outputs": [
    {
     "name": "stdout",
     "output_type": "stream",
     "text": [
      "I eat 6 vegetables and 10 fruits daily.\n"
     ]
    }
   ],
   "source": [
    "x= 6 # where x is the number of vegetables i eat every day \n",
    "y= 10 #where y is the number of fruits i eat every day \n",
    "print(f\"I eat {x} vegetables and {y} fruits daily.\")"
   ]
  },
  {
   "cell_type": "code",
   "execution_count": 33,
   "metadata": {},
   "outputs": [
    {
     "name": "stdout",
     "output_type": "stream",
     "text": [
      "maine 10 samosa khaye\n"
     ]
    }
   ],
   "source": [
    "\n",
    "wrong_string='maine 200 banana khaye'\n",
    "corrected_string=wrong_string.replace('200','10')\n",
    "corrected_string=corrected_string.replace('banana','samosa')\n",
    "print(corrected_string)\n",
    "\n",
    "\n",
    "\n"
   ]
  },
  {
   "cell_type": "markdown",
   "metadata": {
    "id": "B98K3rbAqz7e"
   },
   "source": [
    "##### 1. Let us say your expense for every month are listed below.\n",
    "    1. January -  2200\n",
    "    2. February - 2350\n",
    "    3. March - 2600\n",
    "    4. April - 2130\n",
    "    5. May - 2190\n",
    "\n",
    "Create a list to store these monthly expenses and using that find out,\n",
    "\n",
    "    1. In Feb, how many dollars you spent extra compare to January?\n",
    "    2. Find out your total expense in first quarter (first three months) of the year.\n",
    "    3. Find out if you spent exactly 2000 dollars in any month\n",
    "    4. June month just finished and your expense is 1980 dollar. Add this item to our monthly expense list\n",
    "    5. You returned an item that you bought in a month of April and\n",
    "    got a refund of 200$. Make a correction to your monthly expense list\n",
    "    based on this\n",
    "\n",
    "2. You have a list of your favourite marvel super heros.\n",
    "```\n",
    "heros=['spider man','thor','hulk','iron man','captain america']\n",
    "```\n",
    "\n",
    "Using this find out,\n",
    "\n",
    "    1. Length of the list\n",
    "    2. Add 'black panther' at the end of this list\n",
    "    3. You realize that you need to add 'black panther' after 'hulk',\n",
    "       so remove it from the list first and then add it after 'hulk'\n",
    "    4. Now you don't like thor and hulk because they get angry easily :)\n",
    "       So you want to remove thor and hulk from list and replace them with doctor strange (because he is cool).\n",
    "       Do that with one line of code.\n",
    "    5. Sort the heros list in alphabetical order (Hint. Use dir() functions to list down all functions available in list)\n",
    "\n",
    "\n",
    "\n",
    "\n"
   ]
  },
  {
   "cell_type": "code",
   "execution_count": 37,
   "metadata": {},
   "outputs": [
    {
     "name": "stdout",
     "output_type": "stream",
     "text": [
      "the extra expense spent in feb compared to january is :  150\n",
      "total expense in first quarter of the year is : 4550\n",
      "there is no expense exactly equal to 2000 dolars in any month\n",
      "the list of the expense after the refund [2200, 2350, 2600, 2330, 2190, 1980]\n"
     ]
    }
   ],
   "source": [
    "L=[2200,2350,2600,2130,2190] # where L is the expenses for every month in ordered way . \n",
    "the_extra_expense_spent_in_feb_compared_to_january=L[1]-L[0]\n",
    "print(\"the extra expense spent in feb compared to january is : \",the_extra_expense_spent_in_feb_compared_to_january)    #1st require\n",
    "total_expense_in_first_quarter_of_the_year=sum(L[0:2]) \n",
    "print(\"total expense in first quarter of the year is :\",total_expense_in_first_quarter_of_the_year)        #2nd require\n",
    "if L[0]==2000  :       #3rd require\n",
    "    print(\"my expense in January is exactly 2000 dolars\")\n",
    "elif L[1]==2000 : \n",
    "    print(\"my expense in February is exactly 2000 dolars\")\n",
    "elif L[2]==2000 : \n",
    "    print(\"my expense in March is exactly 2000 dolars\")\n",
    "elif L[3]==2000 : \n",
    "    print(\"my expense in April is exactly 2000 dolars\")\n",
    "elif L[4]==2000 : \n",
    "    print(\"my expense in May is exactly 2000 dolars\")\n",
    "else :\n",
    "    print(\"there is no expense exactly equal to 2000 dolars in any month\")\n",
    "\n",
    "june=1980 \n",
    "L.append(june) #4th require\n",
    "\n",
    "L[3]=L[3]+200 #5th require\n",
    "print(\"the list of the expense after the refund\",L)\n",
    "\n",
    "\n",
    "\n",
    "    \n",
    "    \n",
    "\n"
   ]
  },
  {
   "cell_type": "markdown",
   "metadata": {
    "id": "ojrpvhohrzgJ"
   },
   "source": [
    "Write a program that prints following shape\n",
    "\n",
    "```\n",
    "    *\n",
    "   ***\n",
    "  *****\n",
    " *******\n",
    "*********\n",
    " *******\n",
    "  *****\n",
    "   ***\n",
    "    *\n",
    "```\n",
    "\n"
   ]
  },
  {
   "cell_type": "code",
   "execution_count": 59,
   "metadata": {
    "id": "Ad-hutpdsCJ6"
   },
   "outputs": [
    {
     "name": "stdout",
     "output_type": "stream",
     "text": [
      "    *\n",
      "   ***\n",
      "  *****\n",
      " *******\n",
      "*********\n",
      " *******\n",
      "  *****\n",
      "   ***\n",
      "    *\n"
     ]
    }
   ],
   "source": [
    "for i in range (5):\n",
    "    for j in range (i+1,5):\n",
    "        print(' ',end='')\n",
    "    for j in range (i+1) :\n",
    "        print('*',end='') \n",
    "    for j in range (i) :\n",
    "        print('*',end='')\n",
    "    print()\n",
    "for i in range (4):\n",
    "    for j in range (i+1) :\n",
    "        print(' ',end='')\n",
    "    for j in range (i,4)  :\n",
    "        print('*',end='')\n",
    "    for j in range (i+1,4)  :\n",
    "        print('*',end='')\n",
    "    print()"
   ]
  },
  {
   "cell_type": "markdown",
   "metadata": {
    "id": "wvPY_zf27oQd"
   },
   "source": [
    "5-Write a program that asks the user to enter their name and age. The program should check if the user's age is greater than or equal to 18. If it is, the program should print a message saying they are eligible to vote. Otherwise, the program should print a message saying they are not eligible to vote due to being underage"
   ]
  },
  {
   "cell_type": "code",
   "execution_count": 61,
   "metadata": {
    "id": "fsQPOXwz7p6-"
   },
   "outputs": [
    {
     "name": "stdout",
     "output_type": "stream",
     "text": [
      "enter your name please :hazem\n",
      "enter your age please :21\n",
      "hazem is eligible to vote\n"
     ]
    }
   ],
   "source": [
    "user_name=input(\"enter your name please :\")\n",
    "user_age=int(input(\"enter your age please :\"))\n",
    "if user_age >=18 :\n",
    "    print(user_name,\"is eligible to vote\")\n",
    "else : \n",
    "    print(user_name,\"is not eligible to vote due to being underage\")"
   ]
  },
  {
   "cell_type": "markdown",
   "metadata": {
    "id": "sFUn8RE672Nd"
   },
   "source": [
    "6-Write a program that asks the user to enter a series of numbers. The program should ask for numbers until the user enters a negative number. Once the user enters a negative number, the program should stop and print the sum of all the positive numbers entered\n",
    "\n",
    "\n",
    "Example\n",
    "Enter a number: 5\n",
    "\n",
    "Enter a number: 8\n",
    "\n",
    "Enter a number: 12\n",
    "\n",
    "Enter a number: -2\n",
    "\n",
    "The sum of the positive numbers is 25."
   ]
  },
  {
   "cell_type": "code",
   "execution_count": 68,
   "metadata": {
    "id": "6Wq1UHyv8c9j"
   },
   "outputs": [
    {
     "name": "stdout",
     "output_type": "stream",
     "text": [
      "please enter a number : 5\n",
      "please enter a number : 8\n",
      "please enter a number : 12\n",
      "please enter a number : -2\n",
      "The sum of the positive numbers is 25\n"
     ]
    }
   ],
   "source": [
    "i=0 \n",
    "s=0\n",
    "while i >= 0 :\n",
    "    x=int(input(\"please enter a number : \"))\n",
    "    if x<0 :\n",
    "        break\n",
    "    else :\n",
    "        s=s+x\n",
    "    i+=1\n",
    "print (\"The sum of the positive numbers is\",s)\n",
    "       \n",
    "   "
   ]
  },
  {
   "cell_type": "markdown",
   "metadata": {
    "id": "N7gZIde28H98"
   },
   "source": [
    "WAP to enter the age of 3 person and print oldest and yougest among them."
   ]
  },
  {
   "cell_type": "code",
   "execution_count": 69,
   "metadata": {
    "id": "wHwKyfjN8JfB"
   },
   "outputs": [
    {
     "name": "stdout",
     "output_type": "stream",
     "text": [
      "enter your age , ahmed : 19\n",
      "enter your age , maha : 20\n",
      "enter your age , hazem : 21\n",
      "hazem is the oldest\n",
      "ahmed is the youngest\n"
     ]
    }
   ],
   "source": [
    "ahmed_age=int(input(\"enter your age , ahmed : \")) #1st person\n",
    "maha_age=int(input(\"enter your age , maha : \"))   #2nd person\n",
    "hazem_age=int(input(\"enter your age , hazem : \"))  #3rd person\n",
    "if (hazem_age>ahmed_age) and (hazem_age>maha_age):\n",
    "    print(\"hazem is the oldest\")\n",
    "    if (maha_age>ahmed_age):\n",
    "        print(\"ahmed is the youngest\")\n",
    "    else :\n",
    "        print(\"maha is the youngest\")\n",
    "elif (ahmed_age>hazem_age) and (ahmed>maha_age):\n",
    "    print(\"ahmed is the oldest\")\n",
    "    if (maha_age>hazem_age):\n",
    "        print(\"hazem is the youngest\")\n",
    "    else :\n",
    "        print(\"maha is the youngest\")\n",
    "elif (maha_age>ahmed_age) and (maha_age>hazem_age):\n",
    "    print(\"maha is the oldest\")\n",
    "    if (hazem_age>ahmed_age):\n",
    "        print(\"ahmed is the youngest\")\n",
    "    else :\n",
    "        print(\"hazem is the youngest\")\n"
   ]
  },
  {
   "cell_type": "markdown",
   "metadata": {
    "id": "TSPb7tFn8KDC"
   },
   "source": [
    "WAP to enter a year from user and check if it is leap year of not."
   ]
  },
  {
   "cell_type": "code",
   "execution_count": 77,
   "metadata": {
    "id": "PuGuCHXm8NCH"
   },
   "outputs": [
    {
     "name": "stdout",
     "output_type": "stream",
     "text": [
      "please enter a year :2004\n",
      "the entered year is a leap year\n"
     ]
    }
   ],
   "source": [
    "x=int(input(\"please enter a year :\"))\n",
    "if (x%4==0):\n",
    "    if(x%100==0):  #to check if the year is a century year\n",
    "        if (x%400==0):\n",
    "            print(\"the entered year is a leap year\")\n",
    "        else :\n",
    "            print(\"the entered year is not a leap year\")\n",
    "    else :\n",
    "        print(\"the entered year is a leap year\")\n",
    "else :\n",
    "    print(\"the entered year is not a leap year\")\n",
    "            "
   ]
  },
  {
   "cell_type": "markdown",
   "metadata": {
    "id": "ZGzs8Caf8NmD"
   },
   "source": [
    "WAP to enter a number from user and print its absolute value.*"
   ]
  },
  {
   "cell_type": "code",
   "execution_count": 72,
   "metadata": {
    "id": "bmaqmSF_8Pme"
   },
   "outputs": [
    {
     "name": "stdout",
     "output_type": "stream",
     "text": [
      "please enter a number-3\n",
      "3\n"
     ]
    }
   ],
   "source": [
    "x=int(input(\"please enter a number\"))\n",
    "print(abs(x))"
   ]
  },
  {
   "cell_type": "code",
   "execution_count": 75,
   "metadata": {},
   "outputs": [
    {
     "name": "stdout",
     "output_type": "stream",
     "text": [
      "please enter a number-5\n",
      "5\n"
     ]
    }
   ],
   "source": [
    "#another way for absolute value \n",
    "x=int(input(\"please enter a number\"))\n",
    "if x>0 :\n",
    "    print(x)\n",
    "else:\n",
    "    print(x*-1)\n"
   ]
  }
 ],
 "metadata": {
  "colab": {
   "provenance": []
  },
  "kernelspec": {
   "display_name": "Python 3 (ipykernel)",
   "language": "python",
   "name": "python3"
  },
  "language_info": {
   "codemirror_mode": {
    "name": "ipython",
    "version": 3
   },
   "file_extension": ".py",
   "mimetype": "text/x-python",
   "name": "python",
   "nbconvert_exporter": "python",
   "pygments_lexer": "ipython3",
   "version": "3.11.5"
  }
 },
 "nbformat": 4,
 "nbformat_minor": 1
}
