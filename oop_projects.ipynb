{
 "cells": [
  {
   "cell_type": "markdown",
   "metadata": {
    "id": "uIsH48xnKVL8"
   },
   "source": [
    "#Personal Library Management System\n",
    "\n"
   ]
  },
  {
   "cell_type": "markdown",
   "metadata": {
    "id": "fm4CZddPnzLJ"
   },
   "source": []
  },
  {
   "cell_type": "markdown",
   "metadata": {
    "id": "OUy6TsCQJQuh"
   },
   "source": [
    "<div class=\"markdown prose w-full break-words dark:prose-invert light\"><p>Project Title: <strong>Personal Library Management System</strong></p><p><strong>Project Description:</strong>\n",
    "For this project, you will be building a Personal Library Management System using the Python programming concepts you've learned so far. This system will allow users to manage their personal book collection, add new books, remove books, search for books, and store information about each book.</p><p><strong>Project Requirements:</strong></p><ol><li><p><strong>Class Definitions:</strong></p><ul><li>Create a class named <code>Book</code> to represent a book with attributes like title, author, genre, and publication year.</li><li>Create a class named <code>Library</code> to represent the personal library. This class should have methods to add a book, remove a book, search for a book by title or author, and display the entire library.</li></ul></li><li><p><strong>Data Structure:</strong></p><ul><li>Use appropriate data structures like lists, dictionaries, or sets to store and manage the collection of books in the library.</li></ul></li><li><p><strong>File Handling:</strong></p><ul><li>Implement methods in the <code>Library</code> class to save and load the library data to/from a text or CSV file. This will ensure that the library data is persistent across different program executions.</li></ul></li><li><p><strong>Exception Handling:</strong></p><ul><li>Implement exception handling to handle potential errors gracefully. For instance, handle cases where a book is not found, a file is not found, or input validation errors occur.</li></ul></li><li><p><strong>User Interaction:</strong></p><ul><li>Create a user-friendly command-line interface that allows users to interact with the library. Provide options to add a book, remove a book, search for a book, and display the entire library.</li></ul></li></ol><p><strong>Project Steps:</strong></p><ol><li><p><strong>Class Definitions:</strong></p><ul><li>Define the <code>Book</code> class with appropriate attributes and a constructor.</li><li>Define the <code>Library</code> class with methods for adding, removing, searching, and displaying books.</li></ul></li><li><p><strong>Data Structure:</strong></p><ul><li>Initialize an empty data structure (list or dictionary) in the <code>Library</code> class to store the book objects.</li></ul></li><li><p><strong>File Handling:</strong></p><ul><li>Implement methods in the <code>Library</code> class to save the library data to a file (e.g., \"library.txt\" or \"library.csv\").</li><li>Implement methods to load the library data from the file during program startup.</li></ul></li><li><p><strong>Exception Handling:</strong></p><ul><li>Implement try-except blocks to handle errors related to user input, file operations, and book search.</li></ul></li><li><p><strong>User Interaction:</strong></p><ul><li>Create a user-friendly menu that presents options to the user (e.g., \"Add a book,\" \"Search for a book,\" etc.).</li><li>Based on the user's choice, call the appropriate methods in the <code>Library</code> class.</li></ul></li></ol><p><strong>Project Extensions:</strong>\n",
    "If you'd like to take this project further, consider adding the following features:</p><ul><li>Implement a graphical user interface (GUI) using a library like Tkinter or PyQt.</li><li>Allow users to rate and review books.</li><li>Sort and display books by different criteria (e.g., title, author, genre).</li><li>Provide recommendations based on the user's reading history.</li><li>Integrate an online book API to fetch book details automatically.</li></ul>\n",
    "</div>"
   ]
  },
  {
   "cell_type": "code",
   "execution_count": 3,
   "metadata": {
    "id": "XEuDmR56JNzb"
   },
   "outputs": [],
   "source": []
  },
  {
   "cell_type": "code",
   "execution_count": null,
   "metadata": {},
   "outputs": [
    {
     "name": "stdout",
     "output_type": "stream",
     "text": [
      "=====Library Menu=====\n",
      "            1- Display all available books\n",
      "            2- Request a book\n",
      "            3- Return a book\n",
      "            4- Exit\n",
      "            \n",
      "Enter your choice: 1\n",
      "The books we have in our library:\n",
      "The Great Gatsby\n",
      "The Grapes Of Wrath\n",
      "Ulysses\n",
      "=====Library Menu=====\n",
      "            1- Display all available books\n",
      "            2- Request a book\n",
      "            3- Return a book\n",
      "            4- Exit\n",
      "            \n",
      "Enter your choice: 2\n",
      "Enter the name of the book you would like to request:\n",
      "hazem\n",
      "It is not available.\n",
      "=====Library Menu=====\n",
      "            1- Display all available books\n",
      "            2- Request a book\n",
      "            3- Return a book\n",
      "            4- Exit\n",
      "            \n"
     ]
    }
   ],
   "source": [
    "import sys\n",
    "\n",
    "class Library:\n",
    "    def __init__(self, listofbooks):\n",
    "        self.availablebooks = listofbooks\n",
    "\n",
    "    def displayavailablebooks(self):\n",
    "        print(\"The books we have in our library:\")\n",
    "        for book in self.availablebooks:\n",
    "            print(book)\n",
    "\n",
    "    def lendbooks(self, requestedbook):\n",
    "        if requestedbook in self.availablebooks:\n",
    "            print(\"You can borrow it now.\")\n",
    "            self.availablebooks.remove(requestedbook)\n",
    "        else:\n",
    "            print(\"It is not available.\")\n",
    "\n",
    "class Student:\n",
    "    def requestbook(self):\n",
    "        print(\"Enter the name of the book you would like to request:\")\n",
    "        self.book = input()\n",
    "        return self.book\n",
    "\n",
    "    def returnbook(self):\n",
    "        print(\"Enter the name of the book you would like to return:\")\n",
    "        self.book = input()\n",
    "        return self.book\n",
    "\n",
    "# def main():\n",
    "library = Library([\"The Great Gatsby\", \"The Grapes Of Wrath\", \"Ulysses\"])\n",
    "student = Student()\n",
    "done = False\n",
    "while not done:\n",
    "            print(\"\"\"=====Library Menu=====\n",
    "            1- Display all available books\n",
    "            2- Request a book\n",
    "            3- Return a book\n",
    "            4- Exit\n",
    "            \"\"\")\n",
    "            user_choice = input(\"Enter your choice: \")\n",
    "            if user_choice == '1':\n",
    "                library.displayavailablebooks()\n",
    "            elif user_choice == '2':\n",
    "                requested_book = student.requestbook()\n",
    "                library.lendbooks(requested_book)\n",
    "            elif user_choice == '3':\n",
    "                returned_book = student.returnbook()\n",
    "                library.availablebooks.append(returned_book)\n",
    "                print(\"Thank you for returning the book.\")\n",
    "            elif user_choice == '4':\n",
    "                sys.exit()\n",
    "            else:\n",
    "                print(\"Invalid choice, please try again.\")\n",
    "\n",
    "# if __name__ == \"__main__\":\n",
    "#     main()\n"
   ]
  },
  {
   "cell_type": "markdown",
   "metadata": {
    "id": "oJ3orTXEKMZ9"
   },
   "source": [
    "#Student Grade Tracker\n"
   ]
  },
  {
   "cell_type": "markdown",
   "metadata": {
    "id": "u5eui15CKF4r"
   },
   "source": [
    "<div class=\"markdown prose w-full break-words dark:prose-invert light\"><strong>Project Title: Student Grade Tracker</strong></p><p><strong>Project Description:</strong>\n",
    "In this project, you will build a Student Grade Tracker program that allows users to enter and manage student grades for different subjects. You'll utilize Python's basic data structures, file handling, exception handling, and object-oriented programming concepts to implement this project.</p><p><strong>Project Requirements:</strong></p><ol><li><p><strong>Class Definitions:</strong></p><ul><li>Create a class named <code>Student</code> to represent a student with attributes like name and a dictionary to store subject grades.</li><li>Create a class named <code>Subject</code> to represent a subject with attributes like name and grades.</li></ul></li><li><p><strong>Data Structure:</strong></p><ul><li>Use dictionaries and lists to organize student and subject information.</li></ul></li><li><p><strong>File Handling:</strong></p><ul><li>Implement methods to save and load student data to/from a text file.</li><li>Store each student's name, subjects, and respective grades.</li></ul></li><li><p><strong>Exception Handling:</strong></p><ul><li>Implement exception handling to handle input errors, file errors, and grade validation (ensure grades are within a valid range).</li></ul></li><li><p><strong>User Interaction:</strong></p><ul><li>Create a user-friendly command-line interface that allows users to add students, add subjects and grades, view student grades, and save/load data.</li></ul></li></ol><p><strong>Project Steps:</strong></p><ol><li><p><strong>Class Definitions:</strong></p><ul><li>Define the <code>Student</code> class with attributes for the student's name and a dictionary to store subjects and grades.</li><li>Define the <code>Subject</code> class with attributes for the subject's name and a list to store grades.</li></ul></li><li><p><strong>Data Structure:</strong></p><ul><li>Create a dictionary to store student objects, where keys are student names and values are corresponding <code>Student</code> objects.</li></ul></li><li><p><strong>File Handling:</strong></p><ul><li>Implement methods to save student data to a text file and load data from the file.</li><li>Use a format that allows you to save and load student names, subjects, and grades.</li></ul></li><li><p><strong>Exception Handling:</strong></p><ul><li>Use try-except blocks to handle errors such as invalid inputs and file-related issues.</li></ul></li><li><p><strong>User Interaction:</strong></p><ul><li>Create a loop that presents a menu of options to the user (e.g., \"Add Student,\" \"Add Subject and Grade,\" \"View Student Grades,\" \"Save and Exit\").</li><li>Based on the user's choice, call the appropriate methods in your classes to perform the desired actions.</li></ul></li></ol><p><strong>Project Extensions:</strong>\n",
    "To extend the project's functionality, consider adding the following features:</p><ul><li>Calculate and display each student's average grade.</li><li>Allow users to update or delete students, subjects, and grades.</li><li>Implement a basic graphical user interface using the <code>tkinter</code> library.</li><li>Allow users to export student grade reports to a text or CSV file.</li></ul></div>"
   ]
  },
  {
   "cell_type": "code",
   "execution_count": 2,
   "metadata": {
    "id": "lzDyY9AJKe5s"
   },
   "outputs": [],
   "source": []
  },
  {
   "cell_type": "code",
   "execution_count": 2,
   "metadata": {},
   "outputs": [],
   "source": [
    "import tkinter as tk\n",
    "\n",
    "class ResultsCalculator(tk.Tk):\n",
    "    def __init__(self):\n",
    "        super().__init__()\n",
    "        self.title(\"Your Results\")\n",
    "        self.geometry(\"700x700\")\n",
    "        self.create_widgets()\n",
    "\n",
    "    def create_widgets(self):\n",
    "        self.create_labels()\n",
    "        self.create_entries()\n",
    "        self.create_buttons()\n",
    "\n",
    "    def create_labels(self):\n",
    "        labels = [\"English\", \"Math\", \"Science\", \"Arabic\", \"Total :\", \"Average :\", \"Result\"]\n",
    "        for i, label_text in enumerate(labels):\n",
    "            tk.Label(self, text=label_text, font=\"arial 10\").place(x=50, y=20 + 50 * i)\n",
    "\n",
    "    def create_entries(self):\n",
    "        self.entries = []\n",
    "        for i in range(4):\n",
    "            entry_var = tk.StringVar()\n",
    "            entry = tk.Entry(self, textvariable=entry_var, font=\"arial 15\", width=15)\n",
    "            entry.place(x=250, y=20 + 50 * i)\n",
    "            self.entries.append(entry)\n",
    "\n",
    "    def create_buttons(self):\n",
    "        tk.Button(self, text=\"Calculate\", font=\"arial 15\", bg=\"white\", bd=\"10\", command=self.calculate).place(x=50, y=370)\n",
    "        tk.Button(self, text=\"Exit\", font=\"arial 15\", bg=\"white\", bd=\"10\", command=lambda:exit()).place(x=250, y=370)\n",
    "\n",
    "    def calculate(self):\n",
    "        total = sum(int(entry.get()) for entry in self.entries)\n",
    "        avg = total // 4\n",
    "        result = \"Congratulation, you have passed\" if total >= 100 else \"Failed\"\n",
    "\n",
    "        result_labels = [total, avg, result]\n",
    "        for i, result_text in enumerate(result_labels):\n",
    "            tk.Label(self, text=result_text, font=\"arial 15\").place(x=250, y=220 + 50 * i)\n",
    "app = ResultsCalculator()\n",
    "app.mainloop()\n"
   ]
  },
  {
   "cell_type": "code",
   "execution_count": null,
   "metadata": {},
   "outputs": [],
   "source": []
  },
  {
   "cell_type": "markdown",
   "metadata": {
    "id": "2BTuq4_yfzTq"
   },
   "source": [
    "# Library Management System - Coding Exercise"
   ]
  },
  {
   "cell_type": "code",
   "execution_count": null,
   "metadata": {},
   "outputs": [],
   "source": []
  },
  {
   "cell_type": "markdown",
   "metadata": {
    "id": "3t7pX0uNgsOB"
   },
   "source": [
    "### Your task is to create a simple Library Management System using Object-Oriented Programming (OOP) principles in Python. The system should have the following classes:"
   ]
  },
  {
   "cell_type": "markdown",
   "metadata": {
    "id": "1HGjkUoLkqJn"
   },
   "source": [
    "## class book\n",
    "###attributes:\n",
    "####title: Title of the book\n",
    "####author: Author of the book\n",
    "####isbn: ISBN of the book\n",
    "####checked_out: Boolean indicating whether the book is checked out\n",
    "###Methods\n",
    "####__init__(self, title, author, isbn): Constructor to initialize the attributes\n",
    "####__str__(self): Returns a string representation of the book in the format \"Title by Author\""
   ]
  },
  {
   "cell_type": "markdown",
   "metadata": {
    "id": "jReJrKZ4kqMj"
   },
   "source": [
    "## class Patron\n",
    "###attributes:\n",
    "####name: Name of the patron\n",
    "####patron_id: Patron ID\n",
    "####checked_out_books: List of checked out books (initially empty)\n",
    "\n",
    "###Methods\n",
    "####__init__(self, name, patron_id): Constructor to initialize the attributes\n",
    "####_str__(self): Returns the name of the patron"
   ]
  },
  {
   "cell_type": "markdown",
   "metadata": {
    "id": "t3b9ZlbRkqPV"
   },
   "source": [
    "## class Library\n",
    "###attributes:\n",
    "####books: List to store Book instances\n",
    "####atrons: List to store Patron instances\n",
    "\n",
    "###Methods\n",
    "####__init__(self): Constructor to initialize the lists\n",
    "####dd_book(self, book): Adds a Book instance to the list of books\n",
    "####dd_patron(self, patron): Adds a Patron instance to the list of patrons\n",
    "####heck_out(self, patron, book): Checks out a book for a patron if available\n",
    "####heck_in(self, patron, book): Checks in a book returned by a patron\n",
    "####ist_checked_out_books(self, patron): Returns a list of strings representing checked out books by a patron"
   ]
  },
  {
   "cell_type": "markdown",
   "metadata": {
    "id": "vmkjS1z4kqSy"
   },
   "source": []
  },
  {
   "cell_type": "code",
   "execution_count": null,
   "metadata": {
    "id": "q0304OaMgkF6"
   },
   "outputs": [],
   "source": []
  },
  {
   "cell_type": "code",
   "execution_count": null,
   "metadata": {
    "id": "qvs3dnFkgmVj"
   },
   "outputs": [],
   "source": []
  }
 ],
 "metadata": {
  "colab": {
   "provenance": []
  },
  "kernelspec": {
   "display_name": "Python 3 (ipykernel)",
   "language": "python",
   "name": "python3"
  },
  "language_info": {
   "codemirror_mode": {
    "name": "ipython",
    "version": 3
   },
   "file_extension": ".py",
   "mimetype": "text/x-python",
   "name": "python",
   "nbconvert_exporter": "python",
   "pygments_lexer": "ipython3",
   "version": "3.11.5"
  }
 },
 "nbformat": 4,
 "nbformat_minor": 1
}
